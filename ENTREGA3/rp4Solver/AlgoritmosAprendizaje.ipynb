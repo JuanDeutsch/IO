{
 "cells": [
  {
   "cell_type": "code",
   "execution_count": 1,
   "metadata": {},
   "outputs": [
    {
     "name": "stdout",
     "output_type": "stream",
     "text": [
      "RP4 Solver Copyright(c) 2022\n",
      "Version 6.2 - Beta version\n",
      "Developed by Alfonso T. Sarmiento\n",
      "\n",
      "RP4 Solver Copyright(c) 2022\n",
      "Version 6.2 - Beta version\n",
      "Developed by Alfonso T. Sarmiento\n",
      "\n"
     ]
    }
   ],
   "source": [
    "import rp4solver310 as rp4\n",
    "from rp4solver310 import atico\n",
    "rp4.About()"
   ]
  },
  {
   "cell_type": "code",
   "execution_count": 2,
   "metadata": {},
   "outputs": [
    {
     "name": "stdout",
     "output_type": "stream",
     "text": [
      "Model Solution was imported\n"
     ]
    }
   ],
   "source": [
    "problem=atico('Solution')"
   ]
  },
  {
   "cell_type": "code",
   "execution_count": 3,
   "metadata": {},
   "outputs": [
    {
     "name": "stdout",
     "output_type": "stream",
     "text": [
      "States generated: 113\n"
     ]
    }
   ],
   "source": [
    "problem.report_GEN_max_states=-1\n",
    "problem.State_Generation()"
   ]
  },
  {
   "cell_type": "code",
   "execution_count": 4,
   "metadata": {},
   "outputs": [
    {
     "name": "stdout",
     "output_type": "stream",
     "text": [
      "Horizon: Finite\n",
      "Solved by Value Iteration, All States Based Calculation\n",
      "States generated: 113\n",
      "Calculating Solution ...\n",
      "Number of t-steps computed by the solution: 3\n",
      "\n",
      "REPORT: OPTIMAL VALUE FUNCTION AND POLICY\n",
      "Notation: s=state, V=value function, π=policy's action\n",
      "s= (1, 'Ford', 100, 100, 1, 1)                V(s)= 102.35913694717726 π(s)=Mantengo\n",
      "s= (2, 'NIO', 97.61, 95.4, 0, 0)              V(s)= 97.79369479510493 π(s)=Mantengo\n",
      "s= (2, 'NIO', 97.61, 104.6, 0, 1)             V(s)= 103.72692847994522 π(s)=Mantengo\n",
      "s= (2, 'NIO', 102.39, 95.4, 1, 0)             V(s)= 101.38060452937245 π(s)=Cambio\n",
      "s= (2, 'NIO', 102.39, 104.6, 1, 1)            V(s)= 104.85288447565657 π(s)=Mantengo\n",
      "s= (2, 'Ford', 97.61, 95.4, 0, 0)             V(s)= 98.39952424365248 π(s)=Mantengo\n",
      "s= (2, 'Ford', 97.61, 104.6, 0, 1)            V(s)= 103.5126450179455 π(s)=Mantengo\n",
      "s= (2, 'Ford', 102.39, 95.4, 1, 0)            V(s)= 102.48909130423766 π(s)=Mantengo\n",
      "s= (2, 'Ford', 102.39, 104.6, 1, 1)           V(s)= 105.18454470347248 π(s)=Mantengo\n",
      "s= (3, 'Ford', 95.2771, 91.0116, 0, 0)        V(s)= 95.22975880779624 π(s)=Mantengo\n",
      "s= (3, 'Ford', 95.2771, 99.7884, 0, 1)        V(s)= 98.5735011431096 π(s)=Cambio\n",
      "s= (3, 'Ford', 99.9429, 91.0116, 1, 0)        V(s)= 100.0221902126141 π(s)=Mantengo\n",
      "s= (3, 'Ford', 99.9429, 99.7884, 1, 1)        V(s)= 100.0221902126141 π(s)=Mantengo\n",
      "s= (3, 'NIO', 95.2771, 91.0116, 0, 0)         V(s)= 94.23468091344628 π(s)=Cambio\n",
      "s= (3, 'NIO', 95.2771, 99.7884, 0, 1)         V(s)= 99.31148745974025 π(s)=Mantengo\n",
      "s= (3, 'NIO', 99.9429, 91.0116, 1, 0)         V(s)= 98.96379620489476 π(s)=Cambio\n",
      "s= (3, 'NIO', 99.9429, 99.7884, 1, 1)         V(s)= 99.31148745974025 π(s)=Mantengo\n",
      "s= (3, 'Ford', 95.2771, 99.7884, 0, 0)        V(s)= 98.69284870512841 π(s)=Cambio\n",
      "s= (3, 'Ford', 95.2771, 109.4116, 0, 1)       V(s)= 108.17370893531738 π(s)=Cambio\n",
      "s= (3, 'Ford', 99.9429, 99.7884, 1, 0)        V(s)= 100.0221902126141 π(s)=Mantengo\n",
      "s= (3, 'Ford', 99.9429, 109.4116, 1, 1)       V(s)= 108.19036704868674 π(s)=Cambio\n",
      "s= (3, 'NIO', 95.2771, 99.7884, 0, 0)         V(s)= 99.55018171017964 π(s)=Mantengo\n",
      "s= (3, 'NIO', 95.2771, 109.4116, 0, 1)        V(s)= 108.88869955324674 π(s)=Mantengo\n",
      "s= (3, 'NIO', 99.9429, 99.7884, 1, 0)         V(s)= 99.55018171017963 π(s)=Mantengo\n",
      "s= (3, 'NIO', 99.9429, 109.4116, 1, 1)        V(s)= 108.88869955324675 π(s)=Mantengo\n",
      "s= (3, 'Ford', 99.9429, 91.0116, 0, 0)        V(s)= 99.89324058929314 π(s)=Mantengo\n",
      "s= (3, 'Ford', 99.9429, 99.7884, 0, 1)        V(s)= 99.89324058929313 π(s)=Mantengo\n",
      "s= (3, 'Ford', 104.8371, 91.0116, 1, 0)       V(s)= 104.92027355502074 π(s)=Mantengo\n",
      "s= (3, 'Ford', 104.8371, 99.7884, 1, 1)       V(s)= 104.92027355502073 π(s)=Mantengo\n",
      "s= (3, 'NIO', 99.9429, 91.0116, 0, 0)         V(s)= 98.89932186978724 π(s)=Cambio\n",
      "s= (3, 'NIO', 99.9429, 99.7884, 0, 1)         V(s)= 99.31148745974025 π(s)=Mantengo\n",
      "s= (3, 'NIO', 104.8371, 91.0116, 1, 0)        V(s)= 103.85993811360846 π(s)=Cambio\n",
      "s= (3, 'NIO', 104.8371, 99.7884, 1, 1)        V(s)= 103.6423473245891 π(s)=Cambio\n",
      "s= (3, 'Ford', 99.9429, 99.7884, 0, 0)        V(s)= 99.89324058929314 π(s)=Mantengo\n",
      "s= (3, 'Ford', 99.9429, 109.4116, 0, 1)       V(s)= 108.1258917604733 π(s)=Cambio\n",
      "s= (3, 'Ford', 104.8371, 99.7884, 1, 0)       V(s)= 104.92027355502074 π(s)=Mantengo\n",
      "s= (3, 'Ford', 104.8371, 109.4116, 1, 1)      V(s)= 108.14336648237969 π(s)=Cambio\n",
      "s= (3, 'NIO', 99.9429, 99.7884, 0, 0)         V(s)= 99.55018171017964 π(s)=Mantengo\n",
      "s= (3, 'NIO', 99.9429, 109.4116, 0, 1)        V(s)= 108.88869955324674 π(s)=Mantengo\n",
      "s= (3, 'NIO', 104.8371, 99.7884, 1, 0)        V(s)= 103.76169401300966 π(s)=Cambio\n",
      "s= (3, 'NIO', 104.8371, 109.4116, 1, 1)       V(s)= 108.88869955324675 π(s)=Mantengo\n",
      "s= (4, 'NIO', 93.0, 86.8251, 0, 0)            V(s)= 86.8251      π(s)=myself\n",
      "s= (4, 'NIO', 93.0, 95.1981, 0, 1)            V(s)= 95.1981      π(s)=myself\n",
      "s= (4, 'NIO', 97.5542, 86.8251, 1, 0)         V(s)= 86.8251      π(s)=myself\n",
      "s= (4, 'NIO', 97.5542, 95.1981, 1, 1)         V(s)= 95.1981      π(s)=myself\n",
      "s= (4, 'Ford', 93.0, 86.8251, 0, 0)           V(s)= 93.0         π(s)=myself\n",
      "s= (4, 'Ford', 93.0, 95.1981, 0, 1)           V(s)= 93.0         π(s)=myself\n",
      "s= (4, 'Ford', 97.5542, 86.8251, 1, 0)        V(s)= 97.5542      π(s)=myself\n",
      "s= (4, 'Ford', 97.5542, 95.1981, 1, 1)        V(s)= 97.5542      π(s)=myself\n",
      "s= (4, 'NIO', 93.0, 95.1981, 0, 0)            V(s)= 95.1981      π(s)=myself\n",
      "s= (4, 'NIO', 93.0, 104.3787, 0, 1)           V(s)= 104.3787     π(s)=myself\n",
      "s= (4, 'NIO', 97.5542, 95.1981, 1, 0)         V(s)= 95.1981      π(s)=myself\n",
      "s= (4, 'NIO', 97.5542, 104.3787, 1, 1)        V(s)= 104.3787     π(s)=myself\n",
      "s= (4, 'Ford', 93.0, 95.1981, 0, 0)           V(s)= 93.0         π(s)=myself\n",
      "s= (4, 'Ford', 93.0, 104.3787, 0, 1)          V(s)= 93.0         π(s)=myself\n",
      "s= (4, 'Ford', 97.5542, 95.1981, 1, 0)        V(s)= 97.5542      π(s)=myself\n",
      "s= (4, 'Ford', 97.5542, 104.3787, 1, 1)       V(s)= 97.5542      π(s)=myself\n",
      "s= (4, 'NIO', 97.5543, 86.8251, 0, 0)         V(s)= 86.8251      π(s)=myself\n",
      "s= (4, 'NIO', 97.5543, 95.1981, 0, 1)         V(s)= 95.1981      π(s)=myself\n",
      "s= (4, 'NIO', 102.3315, 86.8251, 1, 0)        V(s)= 86.8251      π(s)=myself\n",
      "s= (4, 'NIO', 102.3315, 95.1981, 1, 1)        V(s)= 95.1981      π(s)=myself\n",
      "s= (4, 'Ford', 97.5543, 86.8251, 0, 0)        V(s)= 97.5543      π(s)=myself\n",
      "s= (4, 'Ford', 97.5543, 95.1981, 0, 1)        V(s)= 97.5543      π(s)=myself\n",
      "s= (4, 'Ford', 102.3315, 86.8251, 1, 0)       V(s)= 102.3315     π(s)=myself\n",
      "s= (4, 'Ford', 102.3315, 95.1981, 1, 1)       V(s)= 102.3315     π(s)=myself\n",
      "s= (4, 'NIO', 97.5543, 95.1981, 0, 0)         V(s)= 95.1981      π(s)=myself\n",
      "s= (4, 'NIO', 97.5543, 104.3787, 0, 1)        V(s)= 104.3787     π(s)=myself\n",
      "s= (4, 'NIO', 102.3315, 95.1981, 1, 0)        V(s)= 95.1981      π(s)=myself\n",
      "s= (4, 'NIO', 102.3315, 104.3787, 1, 1)       V(s)= 104.3787     π(s)=myself\n",
      "s= (4, 'Ford', 97.5543, 95.1981, 0, 0)        V(s)= 97.5543      π(s)=myself\n",
      "s= (4, 'Ford', 97.5543, 104.3787, 0, 1)       V(s)= 97.5543      π(s)=myself\n",
      "s= (4, 'Ford', 102.3315, 95.1981, 1, 0)       V(s)= 102.3315     π(s)=myself\n",
      "s= (4, 'Ford', 102.3315, 104.3787, 1, 1)      V(s)= 102.3315     π(s)=myself\n",
      "s= (4, 'NIO', 93.0, 104.3787, 0, 0)           V(s)= 104.3787     π(s)=myself\n",
      "s= (4, 'NIO', 93.0, 114.4445, 0, 1)           V(s)= 114.4445     π(s)=myself\n",
      "s= (4, 'NIO', 97.5542, 104.3787, 1, 0)        V(s)= 104.3787     π(s)=myself\n",
      "s= (4, 'NIO', 97.5542, 114.4445, 1, 1)        V(s)= 114.4445     π(s)=myself\n",
      "s= (4, 'Ford', 93.0, 104.3787, 0, 0)          V(s)= 93.0         π(s)=myself\n",
      "s= (4, 'Ford', 93.0, 114.4445, 0, 1)          V(s)= 93.0         π(s)=myself\n",
      "s= (4, 'Ford', 97.5542, 104.3787, 1, 0)       V(s)= 97.5542      π(s)=myself\n",
      "s= (4, 'Ford', 97.5542, 114.4445, 1, 1)       V(s)= 97.5542      π(s)=myself\n",
      "s= (4, 'NIO', 97.5543, 104.3787, 0, 0)        V(s)= 104.3787     π(s)=myself\n",
      "s= (4, 'NIO', 97.5543, 114.4445, 0, 1)        V(s)= 114.4445     π(s)=myself\n",
      "s= (4, 'NIO', 102.3315, 104.3787, 1, 0)       V(s)= 104.3787     π(s)=myself\n",
      "s= (4, 'NIO', 102.3315, 114.4445, 1, 1)       V(s)= 114.4445     π(s)=myself\n",
      "s= (4, 'Ford', 97.5543, 104.3787, 0, 0)       V(s)= 97.5543      π(s)=myself\n",
      "s= (4, 'Ford', 97.5543, 114.4445, 0, 1)       V(s)= 97.5543      π(s)=myself\n",
      "s= (4, 'Ford', 102.3315, 104.3787, 1, 0)      V(s)= 102.3315     π(s)=myself\n",
      "s= (4, 'Ford', 102.3315, 114.4445, 1, 1)      V(s)= 102.3315     π(s)=myself\n",
      "s= (4, 'NIO', 102.3315, 86.8251, 0, 0)        V(s)= 86.8251      π(s)=myself\n",
      "s= (4, 'NIO', 102.3315, 95.1981, 0, 1)        V(s)= 95.1981      π(s)=myself\n",
      "s= (4, 'NIO', 107.3427, 86.8251, 1, 0)        V(s)= 86.8251      π(s)=myself\n",
      "s= (4, 'NIO', 107.3427, 95.1981, 1, 1)        V(s)= 95.1981      π(s)=myself\n",
      "s= (4, 'Ford', 102.3315, 86.8251, 0, 0)       V(s)= 102.3315     π(s)=myself\n",
      "s= (4, 'Ford', 102.3315, 95.1981, 0, 1)       V(s)= 102.3315     π(s)=myself\n",
      "s= (4, 'Ford', 107.3427, 86.8251, 1, 0)       V(s)= 107.3427     π(s)=myself\n",
      "s= (4, 'Ford', 107.3427, 95.1981, 1, 1)       V(s)= 107.3427     π(s)=myself\n",
      "s= (4, 'NIO', 102.3315, 95.1981, 0, 0)        V(s)= 95.1981      π(s)=myself\n",
      "s= (4, 'NIO', 102.3315, 104.3787, 0, 1)       V(s)= 104.3787     π(s)=myself\n",
      "s= (4, 'NIO', 107.3427, 95.1981, 1, 0)        V(s)= 95.1981      π(s)=myself\n",
      "s= (4, 'NIO', 107.3427, 104.3787, 1, 1)       V(s)= 104.3787     π(s)=myself\n",
      "s= (4, 'Ford', 102.3315, 95.1981, 0, 0)       V(s)= 102.3315     π(s)=myself\n",
      "s= (4, 'Ford', 102.3315, 104.3787, 0, 1)      V(s)= 102.3315     π(s)=myself\n",
      "s= (4, 'Ford', 107.3427, 95.1981, 1, 0)       V(s)= 107.3427     π(s)=myself\n",
      "s= (4, 'Ford', 107.3427, 104.3787, 1, 1)      V(s)= 107.3427     π(s)=myself\n",
      "s= (4, 'NIO', 102.3315, 104.3787, 0, 0)       V(s)= 104.3787     π(s)=myself\n",
      "s= (4, 'NIO', 102.3315, 114.4445, 0, 1)       V(s)= 114.4445     π(s)=myself\n",
      "s= (4, 'NIO', 107.3427, 104.3787, 1, 0)       V(s)= 104.3787     π(s)=myself\n",
      "s= (4, 'NIO', 107.3427, 114.4445, 1, 1)       V(s)= 114.4445     π(s)=myself\n",
      "s= (4, 'Ford', 102.3315, 104.3787, 0, 0)      V(s)= 102.3315     π(s)=myself\n",
      "s= (4, 'Ford', 102.3315, 114.4445, 0, 1)      V(s)= 102.3315     π(s)=myself\n",
      "s= (4, 'Ford', 107.3427, 104.3787, 1, 0)      V(s)= 107.3427     π(s)=myself\n",
      "s= (4, 'Ford', 107.3427, 114.4445, 1, 1)      V(s)= 107.3427     π(s)=myself\n"
     ]
    }
   ],
   "source": [
    "problem.report_VAI_max_steps=-1\n",
    "problem.report_detail=True\n",
    "v_vector,a_vector=problem.Solution_Process('VAI',3)"
   ]
  }
 ],
 "metadata": {
  "kernelspec": {
   "display_name": "Python 3",
   "language": "python",
   "name": "python3"
  },
  "language_info": {
   "codemirror_mode": {
    "name": "ipython",
    "version": 3
   },
   "file_extension": ".py",
   "mimetype": "text/x-python",
   "name": "python",
   "nbconvert_exporter": "python",
   "pygments_lexer": "ipython3",
   "version": "3.10.11"
  }
 },
 "nbformat": 4,
 "nbformat_minor": 2
}
