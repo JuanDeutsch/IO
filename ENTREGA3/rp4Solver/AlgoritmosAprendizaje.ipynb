{
 "cells": [
  {
   "cell_type": "code",
   "execution_count": 1,
   "metadata": {},
   "outputs": [
    {
     "name": "stdout",
     "output_type": "stream",
     "text": [
      "RP4 Solver Copyright(c) 2022\n",
      "Version 6.2 - Beta version\n",
      "Developed by Alfonso T. Sarmiento\n",
      "\n",
      "RP4 Solver Copyright(c) 2022\n",
      "Version 6.2 - Beta version\n",
      "Developed by Alfonso T. Sarmiento\n",
      "\n"
     ]
    }
   ],
   "source": [
    "import rp4solver310 as rp4\n",
    "from rp4solver310 import atico\n",
    "rp4.About()"
   ]
  },
  {
   "cell_type": "code",
   "execution_count": 2,
   "metadata": {},
   "outputs": [
    {
     "name": "stdout",
     "output_type": "stream",
     "text": [
      "[[0.50519751 0.49480249]\n",
      " [0.49170124 0.50829876]]\n",
      "Model Solution was imported\n"
     ]
    }
   ],
   "source": [
    "problem=atico('Solution')"
   ]
  },
  {
   "cell_type": "code",
   "execution_count": 3,
   "metadata": {},
   "outputs": [
    {
     "ename": "UnboundLocalError",
     "evalue": "local variable 'sn3' referenced before assignment",
     "output_type": "error",
     "traceback": [
      "\u001b[1;31m---------------------------------------------------------------------------\u001b[0m",
      "\u001b[1;31mUnboundLocalError\u001b[0m                         Traceback (most recent call last)",
      "Cell \u001b[1;32mIn[3], line 2\u001b[0m\n\u001b[0;32m      1\u001b[0m problem\u001b[38;5;241m.\u001b[39mreport_GEN_max_states\u001b[38;5;241m=\u001b[39m\u001b[38;5;241m-\u001b[39m\u001b[38;5;241m1\u001b[39m\n\u001b[1;32m----> 2\u001b[0m \u001b[43mproblem\u001b[49m\u001b[38;5;241;43m.\u001b[39;49m\u001b[43mState_Generation\u001b[49m\u001b[43m(\u001b[49m\u001b[43m)\u001b[49m\n",
      "File \u001b[1;32m/content/drive/MyDrive/Compilacion PYC/codigo_version40.py:93\u001b[0m, in \u001b[0;36mState_Generation\u001b[1;34m(self)\u001b[0m\n",
      "File \u001b[1;32mc:\\Users\\Carlos Abdala\\Documents\\SEMESTRE 7\\INVESTIGACION DE OPERACIONES I\\TRABAJOS\\CODIGOS\\IO\\ENTREGA3\\rp4Solver\\Solution.py:61\u001b[0m, in \u001b[0;36mTransition_Equations\u001b[1;34m(s, a, e)\u001b[0m\n\u001b[0;32m     59\u001b[0m \u001b[38;5;28;01mif\u001b[39;00m s2\u001b[38;5;241m>\u001b[39m\u001b[38;5;241m0\u001b[39m \u001b[38;5;129;01mand\u001b[39;00m e\u001b[38;5;241m==\u001b[39m\u001b[38;5;124m'\u001b[39m\u001b[38;5;124mmalo\u001b[39m\u001b[38;5;124m'\u001b[39m:\n\u001b[0;32m     60\u001b[0m     sn2\u001b[38;5;241m=\u001b[39m\u001b[38;5;241m1\u001b[39m\n\u001b[1;32m---> 61\u001b[0m sn\u001b[38;5;241m=\u001b[39m(sn1,sn2,\u001b[43msn3\u001b[49m)\n\u001b[0;32m     62\u001b[0m \u001b[38;5;28;01mreturn\u001b[39;00m sn\n",
      "\u001b[1;31mUnboundLocalError\u001b[0m: local variable 'sn3' referenced before assignment"
     ]
    }
   ],
   "source": [
    "problem.report_GEN_max_states=-1\n",
    "problem.State_Generation()"
   ]
  },
  {
   "cell_type": "code",
   "execution_count": null,
   "metadata": {},
   "outputs": [
    {
     "name": "stdout",
     "output_type": "stream",
     "text": [
      "Horizon: Finite\n",
      "Solved by Value Iteration, All States Based Calculation\n",
      "States generated: 7\n",
      "Calculating Solution ...\n",
      "Number of t-steps computed by the solution: 3\n",
      "\n",
      "REPORT: OPTIMAL VALUE FUNCTION AND POLICY\n",
      "Notation: s=state, V=value function, π=policy's action\n",
      "s= (1, 1)      V(s)= 675.0        π(s)=2\n",
      "s= (2, 1)      V(s)= 700.0        π(s)=2\n",
      "s= (2, 0)      V(s)= 0            π(s)=myself\n",
      "s= (3, 1)      V(s)= 800.0        π(s)=3\n",
      "s= (3, 0)      V(s)= 0            π(s)=myself\n",
      "s= (4, 1)      V(s)= 1600         π(s)=myself\n",
      "s= (4, 0)      V(s)= 0            π(s)=myself\n"
     ]
    }
   ],
   "source": [
    "problem.report_VAI_max_steps=-1\n",
    "problem.report_detail=True\n",
    "v_vector,a_vector=problem.Solution_Process('VAI',3)"
   ]
  }
 ],
 "metadata": {
  "kernelspec": {
   "display_name": "Python 3",
   "language": "python",
   "name": "python3"
  },
  "language_info": {
   "codemirror_mode": {
    "name": "ipython",
    "version": 3
   },
   "file_extension": ".py",
   "mimetype": "text/x-python",
   "name": "python",
   "nbconvert_exporter": "python",
   "pygments_lexer": "ipython3",
   "version": "3.10.0"
  }
 },
 "nbformat": 4,
 "nbformat_minor": 2
}
