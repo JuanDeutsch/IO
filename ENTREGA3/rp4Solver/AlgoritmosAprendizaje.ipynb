{
 "cells": [
  {
   "cell_type": "code",
   "execution_count": 1,
   "metadata": {},
   "outputs": [
    {
     "name": "stdout",
     "output_type": "stream",
     "text": [
      "RP4 Solver Copyright(c) 2022\n",
      "Version 6.2 - Beta version\n",
      "Developed by Alfonso T. Sarmiento\n",
      "\n",
      "RP4 Solver Copyright(c) 2022\n",
      "Version 6.2 - Beta version\n",
      "Developed by Alfonso T. Sarmiento\n",
      "\n"
     ]
    }
   ],
   "source": [
    "import rp4solver310 as rp4\n",
    "from rp4solver310 import atico\n",
    "rp4.About()"
   ]
  },
  {
   "cell_type": "code",
   "execution_count": 2,
   "metadata": {},
   "outputs": [
    {
     "name": "stdout",
     "output_type": "stream",
     "text": [
      "Model m_Ejemplo was imported\n"
     ]
    }
   ],
   "source": [
    "problem=atico('m_Ejemplo')"
   ]
  },
  {
   "cell_type": "code",
   "execution_count": 3,
   "metadata": {},
   "outputs": [
    {
     "name": "stdout",
     "output_type": "stream",
     "text": [
      "States generated: 7\n"
     ]
    }
   ],
   "source": [
    "problem.report_GEN_max_states=-1\n",
    "problem.State_Generation()"
   ]
  },
  {
   "cell_type": "code",
   "execution_count": 4,
   "metadata": {},
   "outputs": [
    {
     "name": "stdout",
     "output_type": "stream",
     "text": [
      "Horizon: Finite\n",
      "Solved by Value Iteration, All States Based Calculation\n",
      "States generated: 7\n",
      "Calculating Solution ...\n",
      "Number of t-steps computed by the solution: 3\n",
      "\n",
      "REPORT: OPTIMAL VALUE FUNCTION AND POLICY\n",
      "Notation: s=state, V=value function, π=policy's action\n",
      "s= (1, 1)      V(s)= 675.0        π(s)=2\n",
      "s= (2, 1)      V(s)= 700.0        π(s)=2\n",
      "s= (2, 0)      V(s)= 0            π(s)=myself\n",
      "s= (3, 1)      V(s)= 800.0        π(s)=3\n",
      "s= (3, 0)      V(s)= 0            π(s)=myself\n",
      "s= (4, 1)      V(s)= 1600         π(s)=myself\n",
      "s= (4, 0)      V(s)= 0            π(s)=myself\n"
     ]
    }
   ],
   "source": [
    "problem.report_VAI_max_steps=-1\n",
    "problem.report_detail=True\n",
    "v_vector,a_vector=problem.Solution_Process('VAI',3)"
   ]
  }
 ],
 "metadata": {
  "kernelspec": {
   "display_name": "Python 3",
   "language": "python",
   "name": "python3"
  },
  "language_info": {
   "codemirror_mode": {
    "name": "ipython",
    "version": 3
   },
   "file_extension": ".py",
   "mimetype": "text/x-python",
   "name": "python",
   "nbconvert_exporter": "python",
   "pygments_lexer": "ipython3",
   "version": "3.10.11"
  }
 },
 "nbformat": 4,
 "nbformat_minor": 2
}
