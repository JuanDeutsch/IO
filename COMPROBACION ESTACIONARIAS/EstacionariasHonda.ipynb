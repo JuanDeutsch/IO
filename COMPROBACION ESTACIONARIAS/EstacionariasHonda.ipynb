{
 "cells": [
  {
   "cell_type": "code",
   "execution_count": 50,
   "metadata": {},
   "outputs": [],
   "source": [
    "import pandas as pd\n",
    "import numpy as np"
   ]
  },
  {
   "cell_type": "code",
   "execution_count": 51,
   "metadata": {},
   "outputs": [],
   "source": [
    "data_honda = pd.read_csv('../DATOS/Honda.csv')"
   ]
  },
  {
   "cell_type": "code",
   "execution_count": 52,
   "metadata": {},
   "outputs": [],
   "source": [
    "#LIMPIEZA DATOS\n",
    "data_honda=data_honda.drop(columns=[\"Date\",\"Open\",\"High\",\"Low\",\"Adj Close\",\"Volume\"])"
   ]
  },
  {
   "cell_type": "code",
   "execution_count": 60,
   "metadata": {},
   "outputs": [
    {
     "name": "stderr",
     "output_type": "stream",
     "text": [
      "c:\\Users\\Carlos Abdala\\AppData\\Local\\Programs\\Python\\Python312\\Lib\\site-packages\\numpy\\core\\fromnumeric.py:59: FutureWarning: 'DataFrame.swapaxes' is deprecated and will be removed in a future version. Please use 'DataFrame.transpose' instead.\n",
      "  return bound(*args, **kwds)\n"
     ]
    }
   ],
   "source": [
    "#PREPARAR DATOS\n",
    "numero_periodos=5\n",
    "def determinar_estado(cambio):\n",
    "    if cambio > -0.20 and cambio < 0.20 :\n",
    "        return 'Estable'\n",
    "    elif cambio < 0:\n",
    "        return 'Bajo'\n",
    "    else:\n",
    "        return 'Subio'\n",
    "\n",
    "data_honda['Cambio'] = data_honda['Close'].diff()\n",
    "data_honda['EstadoNuevo'] = data_honda['Cambio'].apply(determinar_estado)\n",
    "\n",
    "data_honda_dividido= np.array_split(data_honda,numero_periodos)\n"
   ]
  },
  {
   "cell_type": "code",
   "execution_count": 61,
   "metadata": {},
   "outputs": [
    {
     "name": "stdout",
     "output_type": "stream",
     "text": [
      "FRECUENCIA OBSERVADA - PERIODO 1 \n",
      " EstadoNuevo  Bajo  Estable  Subio\n",
      "EstadoNuevo                      \n",
      "Bajo           11        4      8\n",
      "Estable         6        1      2\n",
      "Subio           6        4     10 \n",
      "\n",
      "FRECUENCIA OBSERVADA - PERIODO 2 \n",
      " EstadoNuevo  Bajo  Estable  Subio\n",
      "EstadoNuevo                      \n",
      "Bajo            7        2     12\n",
      "Estable         2        0      3\n",
      "Subio          12        3     10 \n",
      "\n",
      "FRECUENCIA OBSERVADA - PERIODO 3 \n",
      " EstadoNuevo  Bajo  Estable  Subio\n",
      "EstadoNuevo                      \n",
      "Bajo           10        3     10\n",
      "Estable         5        2      1\n",
      "Subio           7        3     10 \n",
      "\n",
      "FRECUENCIA OBSERVADA - PERIODO 4 \n",
      " EstadoNuevo  Bajo  Estable  Subio\n",
      "EstadoNuevo                      \n",
      "Bajo           12        5      6\n",
      "Estable         4        2      5\n",
      "Subio           7        4      6 \n",
      "\n",
      "FRECUENCIA OBSERVADA - PERIODO 5 \n",
      " EstadoNuevo  Bajo  Estable  Subio\n",
      "EstadoNuevo                      \n",
      "Bajo            6        2      7\n",
      "Estable         1        3      4\n",
      "Subio           8        3     17 \n",
      "\n",
      "EstadoNuevo\n",
      "Bajo       23\n",
      "Estable     9\n",
      "Subio      20\n",
      "dtype: int64\n"
     ]
    },
    {
     "name": "stderr",
     "output_type": "stream",
     "text": [
      "c:\\Users\\Carlos Abdala\\AppData\\Local\\Programs\\Python\\Python312\\Lib\\site-packages\\numpy\\core\\fromnumeric.py:86: FutureWarning: The behavior of DataFrame.sum with axis=None is deprecated, in a future version this will reduce over both axes and return a scalar. To retain the old behavior, pass axis=0 (or do not pass axis)\n",
      "  return reduction(axis=axis, out=out, **passkwargs)\n"
     ]
    }
   ],
   "source": [
    "# FRECUENCIA OBSERVADA\n",
    "frecuencia_obs_1 = pd.crosstab(data_honda_dividido[0]['EstadoNuevo'].shift(), data_honda_dividido[0]['EstadoNuevo'], normalize=False)\n",
    "print(\"FRECUENCIA OBSERVADA - PERIODO 1 \\n\", frecuencia_obs_1, \"\\n\")\n",
    "frecuencia_obs_2 = pd.crosstab(data_honda_dividido[1]['EstadoNuevo'].shift(), data_honda_dividido[1]['EstadoNuevo'], normalize=False)\n",
    "print(\"FRECUENCIA OBSERVADA - PERIODO 2 \\n\", frecuencia_obs_2, \"\\n\")\n",
    "frecuencia_obs_3 = pd.crosstab(data_honda_dividido[2]['EstadoNuevo'].shift(), data_honda_dividido[2]['EstadoNuevo'], normalize=False)\n",
    "print(\"FRECUENCIA OBSERVADA - PERIODO 3 \\n\", frecuencia_obs_3, \"\\n\")\n",
    "frecuencia_obs_4 = pd.crosstab(data_honda_dividido[3]['EstadoNuevo'].shift(), data_honda_dividido[3]['EstadoNuevo'], normalize=False)\n",
    "print(\"FRECUENCIA OBSERVADA - PERIODO 4 \\n\", frecuencia_obs_4, \"\\n\")\n",
    "frecuencia_obs_5 = pd.crosstab(data_honda_dividido[4]['EstadoNuevo'].shift(), data_honda_dividido[4]['EstadoNuevo'], normalize=False)\n",
    "print(\"FRECUENCIA OBSERVADA - PERIODO 5 \\n\", frecuencia_obs_5, \"\\n\")\n",
    "\n",
    "print(np.sum(frecuencia_obs_1))\n",
    "frecuencias_observadas = [frecuencia_obs_1, frecuencia_obs_2, frecuencia_obs_3, frecuencia_obs_4, frecuencia_obs_5]"
   ]
  },
  {
   "cell_type": "code",
   "execution_count": 62,
   "metadata": {},
   "outputs": [
    {
     "name": "stdout",
     "output_type": "stream",
     "text": [
      "PROBABILIDAD OBSERVADA - PERIODO 1 \n",
      " EstadoNuevo      Bajo   Estable     Subio\n",
      "EstadoNuevo                              \n",
      "Bajo         0.211538  0.076923  0.153846\n",
      "Estable      0.115385  0.019231  0.038462\n",
      "Subio        0.115385  0.076923  0.192308 \n",
      "\n",
      "PROBABILIDAD OBSERVADA - PERIODO 2 \n",
      " EstadoNuevo      Bajo   Estable     Subio\n",
      "EstadoNuevo                              \n",
      "Bajo         0.137255  0.039216  0.235294\n",
      "Estable      0.039216  0.000000  0.058824\n",
      "Subio        0.235294  0.058824  0.196078 \n",
      "\n",
      "PROBABILIDAD OBSERVADA - PERIODO 3 \n",
      " EstadoNuevo      Bajo   Estable     Subio\n",
      "EstadoNuevo                              \n",
      "Bajo         0.196078  0.058824  0.196078\n",
      "Estable      0.098039  0.039216  0.019608\n",
      "Subio        0.137255  0.058824  0.196078 \n",
      "\n",
      "PROBABILIDAD OBSERVADA - PERIODO 4 \n",
      " EstadoNuevo      Bajo   Estable     Subio\n",
      "EstadoNuevo                              \n",
      "Bajo         0.235294  0.098039  0.117647\n",
      "Estable      0.078431  0.039216  0.098039\n",
      "Subio        0.137255  0.078431  0.117647 \n",
      "\n",
      "PROBABILIDAD OBSERVADA - PERIODO 5 \n",
      " EstadoNuevo      Bajo   Estable     Subio\n",
      "EstadoNuevo                              \n",
      "Bajo         0.117647  0.039216  0.137255\n",
      "Estable      0.019608  0.058824  0.078431\n",
      "Subio        0.156863  0.058824  0.333333\n"
     ]
    }
   ],
   "source": [
    "#PROBABILIDAD OBSERVADA\n",
    "probabilidad_obs_1= pd.crosstab(data_honda_dividido[0]['EstadoNuevo'].shift(), data_honda_dividido[0]['EstadoNuevo'], normalize=True)\n",
    "print(\"PROBABILIDAD OBSERVADA - PERIODO 1 \\n\",probabilidad_obs_1,\"\\n\")\n",
    "probabilidad_obs_2= pd.crosstab(data_honda_dividido[1]['EstadoNuevo'].shift(), data_honda_dividido[1]['EstadoNuevo'], normalize=True)\n",
    "print(\"PROBABILIDAD OBSERVADA - PERIODO 2 \\n\",probabilidad_obs_2,\"\\n\")\n",
    "probabilidad_obs_3= pd.crosstab(data_honda_dividido[2]['EstadoNuevo'].shift(), data_honda_dividido[2]['EstadoNuevo'], normalize=True)\n",
    "print(\"PROBABILIDAD OBSERVADA - PERIODO 3 \\n\",probabilidad_obs_3,\"\\n\")\n",
    "probabilidad_obs_4= pd.crosstab(data_honda_dividido[3]['EstadoNuevo'].shift(), data_honda_dividido[3]['EstadoNuevo'], normalize=True)\n",
    "print(\"PROBABILIDAD OBSERVADA - PERIODO 4 \\n\",probabilidad_obs_4,\"\\n\")\n",
    "probabilidad_obs_5= pd.crosstab(data_honda_dividido[4]['EstadoNuevo'].shift(), data_honda_dividido[4]['EstadoNuevo'], normalize=True)\n",
    "print(\"PROBABILIDAD OBSERVADA - PERIODO 5 \\n\",probabilidad_obs_5,)\n",
    "\n",
    "probabilidades_observadas=[probabilidad_obs_1,probabilidad_obs_2,probabilidad_obs_3,probabilidad_obs_4,probabilidad_obs_5]"
   ]
  },
  {
   "cell_type": "code",
   "execution_count": 63,
   "metadata": {},
   "outputs": [
    {
     "name": "stdout",
     "output_type": "stream",
     "text": [
      "PROBABILIDAD ESPERADA\n",
      " EstadoNuevo      Bajo   Estable     Subio\n",
      "EstadoNuevo                              \n",
      "Bajo         0.176923  0.061538  0.165385\n",
      "Estable      0.069231  0.030769  0.057692\n",
      "Subio        0.157692  0.065385  0.215385\n"
     ]
    }
   ],
   "source": [
    "probabilidad_esp= pd.crosstab(data_honda['EstadoNuevo'].shift(), data_honda['EstadoNuevo'], normalize=True)\n",
    "print(\"PROBABILIDAD ESPERADA\\n\",probabilidad_esp,)"
   ]
  },
  {
   "cell_type": "code",
   "execution_count": 70,
   "metadata": {},
   "outputs": [
    {
     "name": "stdout",
     "output_type": "stream",
     "text": [
      "[23  9 20] \n",
      "\n",
      "[[0.21153846 0.07692308 0.15384615]\n",
      " [0.11538462 0.01923077 0.03846154]\n",
      " [0.11538462 0.07692308 0.19230769]]\n",
      "[[0.17692308 0.06153846 0.16538462]\n",
      " [0.06923077 0.03076923 0.05769231]\n",
      " [0.15769231 0.06538462 0.21538462]]\n",
      "[21  5 25] \n",
      "\n",
      "[[0.1372549  0.03921569 0.23529412]\n",
      " [0.03921569 0.         0.05882353]\n",
      " [0.23529412 0.05882353 0.19607843]]\n",
      "[[0.17692308 0.06153846 0.16538462]\n",
      " [0.06923077 0.03076923 0.05769231]\n",
      " [0.15769231 0.06538462 0.21538462]]\n",
      "[22  8 21] \n",
      "\n",
      "[[0.19607843 0.05882353 0.19607843]\n",
      " [0.09803922 0.03921569 0.01960784]\n",
      " [0.1372549  0.05882353 0.19607843]]\n",
      "[[0.17692308 0.06153846 0.16538462]\n",
      " [0.06923077 0.03076923 0.05769231]\n",
      " [0.15769231 0.06538462 0.21538462]]\n",
      "[23 11 17] \n",
      "\n",
      "[[0.23529412 0.09803922 0.11764706]\n",
      " [0.07843137 0.03921569 0.09803922]\n",
      " [0.1372549  0.07843137 0.11764706]]\n",
      "[[0.17692308 0.06153846 0.16538462]\n",
      " [0.06923077 0.03076923 0.05769231]\n",
      " [0.15769231 0.06538462 0.21538462]]\n",
      "[15  8 28] \n",
      "\n",
      "[[0.11764706 0.03921569 0.1372549 ]\n",
      " [0.01960784 0.05882353 0.07843137]\n",
      " [0.15686275 0.05882353 0.33333333]]\n",
      "[[0.17692308 0.06153846 0.16538462]\n",
      " [0.06923077 0.03076923 0.05769231]\n",
      " [0.15769231 0.06538462 0.21538462]]\n",
      "10.278331759427683\n"
     ]
    }
   ],
   "source": [
    "#CHI CUADRADO\n",
    "nivelConfianza = 0.95\n",
    "alpha = 1 - nivelConfianza\n",
    "valorCritico = 9.488\n",
    "observado_chi=0\n",
    "\n",
    "for indice_periodo in range(numero_periodos):\n",
    "    observado_chi+=np.sum(np.sum(frecuencias_observadas[indice_periodo]).values*(probabilidades_observadas[indice_periodo].values-probabilidad_esp.values)**2/probabilidad_esp.values)\n",
    "    print(np.sum(frecuencias_observadas[indice_periodo]).values,\"\\n\")\n",
    "    print(probabilidades_observadas[indice_periodo].values)\n",
    "    print(probabilidad_esp.values)\n",
    "\n",
    "print(observado_chi)\n"
   ]
  }
 ],
 "metadata": {
  "kernelspec": {
   "display_name": "Python 3",
   "language": "python",
   "name": "python3"
  },
  "language_info": {
   "codemirror_mode": {
    "name": "ipython",
    "version": 3
   },
   "file_extension": ".py",
   "mimetype": "text/x-python",
   "name": "python",
   "nbconvert_exporter": "python",
   "pygments_lexer": "ipython3",
   "version": "3.12.1"
  }
 },
 "nbformat": 4,
 "nbformat_minor": 2
}
