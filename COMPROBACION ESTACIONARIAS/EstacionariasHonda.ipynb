{
 "cells": [
  {
   "cell_type": "code",
   "execution_count": 71,
   "metadata": {},
   "outputs": [],
   "source": [
    "import pandas as pd\n",
    "import numpy as np"
   ]
  },
  {
   "cell_type": "code",
   "execution_count": 72,
   "metadata": {},
   "outputs": [],
   "source": [
    "data_honda = pd.read_csv('../DATOS/Honda.csv')"
   ]
  },
  {
   "cell_type": "code",
   "execution_count": 73,
   "metadata": {},
   "outputs": [],
   "source": [
    "#LIMPIEZA DATOS\n",
    "data_honda=data_honda.drop(columns=[\"Date\",\"Open\",\"High\",\"Low\",\"Adj Close\",\"Volume\"])"
   ]
  },
  {
   "cell_type": "code",
   "execution_count": 74,
   "metadata": {},
   "outputs": [
    {
     "name": "stderr",
     "output_type": "stream",
     "text": [
      "c:\\Users\\Carlos Abdala\\AppData\\Local\\Programs\\Python\\Python312\\Lib\\site-packages\\numpy\\core\\fromnumeric.py:59: FutureWarning: 'DataFrame.swapaxes' is deprecated and will be removed in a future version. Please use 'DataFrame.transpose' instead.\n",
      "  return bound(*args, **kwds)\n"
     ]
    }
   ],
   "source": [
    "#PREPARAR DATOS\n",
    "numero_periodos=5\n",
    "def determinar_estado(cambio):\n",
    "    if cambio > -0.40 and cambio < 0.40 :\n",
    "        return 'Estable'\n",
    "    elif cambio < 0:\n",
    "        return 'Bajo'\n",
    "    else:\n",
    "        return 'Subio'\n",
    "\n",
    "data_honda['Cambio'] = data_honda['Close'].diff()\n",
    "data_honda['EstadoNuevo'] = data_honda['Cambio'].apply(determinar_estado)\n",
    "\n",
    "data_honda_dividido= np.array_split(data_honda,numero_periodos)\n"
   ]
  },
  {
   "cell_type": "code",
   "execution_count": 75,
   "metadata": {},
   "outputs": [
    {
     "name": "stdout",
     "output_type": "stream",
     "text": [
      "FRECUENCIA OBSERVADA - PERIODO 1 \n",
      " EstadoNuevo  Bajo  Estable  Subio\n",
      "EstadoNuevo                      \n",
      "Bajo            8        5      6\n",
      "Estable         8        8      3\n",
      "Subio           3        7      4 \n",
      "\n",
      "FRECUENCIA OBSERVADA - PERIODO 2 \n",
      " EstadoNuevo  Bajo  Estable  Subio\n",
      "EstadoNuevo                      \n",
      "Bajo            4        5     10\n",
      "Estable         6        4      4\n",
      "Subio           9        4      5 \n",
      "\n",
      "FRECUENCIA OBSERVADA - PERIODO 3 \n",
      " EstadoNuevo  Bajo  Estable  Subio\n",
      "EstadoNuevo                      \n",
      "Bajo            3        6      5\n",
      "Estable         5       11      7\n",
      "Subio           5        6      3 \n",
      "\n",
      "FRECUENCIA OBSERVADA - PERIODO 4 \n",
      " EstadoNuevo  Bajo  Estable  Subio\n",
      "EstadoNuevo                      \n",
      "Bajo            5        5      3\n",
      "Estable         5       11      8\n",
      "Subio           3        8      3 \n",
      "\n",
      "FRECUENCIA OBSERVADA - PERIODO 5 \n",
      " EstadoNuevo  Bajo  Estable  Subio\n",
      "EstadoNuevo                      \n",
      "Bajo            6        1      7\n",
      "Estable         1        5      6\n",
      "Subio           7        6     12 \n",
      "\n",
      "EstadoNuevo\n",
      "Bajo       19\n",
      "Estable    20\n",
      "Subio      13\n",
      "dtype: int64\n"
     ]
    },
    {
     "name": "stderr",
     "output_type": "stream",
     "text": [
      "c:\\Users\\Carlos Abdala\\AppData\\Local\\Programs\\Python\\Python312\\Lib\\site-packages\\numpy\\core\\fromnumeric.py:86: FutureWarning: The behavior of DataFrame.sum with axis=None is deprecated, in a future version this will reduce over both axes and return a scalar. To retain the old behavior, pass axis=0 (or do not pass axis)\n",
      "  return reduction(axis=axis, out=out, **passkwargs)\n"
     ]
    }
   ],
   "source": [
    "# FRECUENCIA OBSERVADA\n",
    "frecuencia_obs_1 = pd.crosstab(data_honda_dividido[0]['EstadoNuevo'].shift(), data_honda_dividido[0]['EstadoNuevo'], normalize=False)\n",
    "print(\"FRECUENCIA OBSERVADA - PERIODO 1 \\n\", frecuencia_obs_1, \"\\n\")\n",
    "frecuencia_obs_2 = pd.crosstab(data_honda_dividido[1]['EstadoNuevo'].shift(), data_honda_dividido[1]['EstadoNuevo'], normalize=False)\n",
    "print(\"FRECUENCIA OBSERVADA - PERIODO 2 \\n\", frecuencia_obs_2, \"\\n\")\n",
    "frecuencia_obs_3 = pd.crosstab(data_honda_dividido[2]['EstadoNuevo'].shift(), data_honda_dividido[2]['EstadoNuevo'], normalize=False)\n",
    "print(\"FRECUENCIA OBSERVADA - PERIODO 3 \\n\", frecuencia_obs_3, \"\\n\")\n",
    "frecuencia_obs_4 = pd.crosstab(data_honda_dividido[3]['EstadoNuevo'].shift(), data_honda_dividido[3]['EstadoNuevo'], normalize=False)\n",
    "print(\"FRECUENCIA OBSERVADA - PERIODO 4 \\n\", frecuencia_obs_4, \"\\n\")\n",
    "frecuencia_obs_5 = pd.crosstab(data_honda_dividido[4]['EstadoNuevo'].shift(), data_honda_dividido[4]['EstadoNuevo'], normalize=False)\n",
    "print(\"FRECUENCIA OBSERVADA - PERIODO 5 \\n\", frecuencia_obs_5, \"\\n\")\n",
    "\n",
    "print(np.sum(frecuencia_obs_1))\n",
    "frecuencias_observadas = [frecuencia_obs_1, frecuencia_obs_2, frecuencia_obs_3, frecuencia_obs_4, frecuencia_obs_5]"
   ]
  },
  {
   "cell_type": "code",
   "execution_count": 76,
   "metadata": {},
   "outputs": [
    {
     "name": "stdout",
     "output_type": "stream",
     "text": [
      "PROBABILIDAD OBSERVADA - PERIODO 1 \n",
      " EstadoNuevo      Bajo   Estable     Subio\n",
      "EstadoNuevo                              \n",
      "Bajo         0.153846  0.096154  0.115385\n",
      "Estable      0.153846  0.153846  0.057692\n",
      "Subio        0.057692  0.134615  0.076923 \n",
      "\n",
      "PROBABILIDAD OBSERVADA - PERIODO 2 \n",
      " EstadoNuevo      Bajo   Estable     Subio\n",
      "EstadoNuevo                              \n",
      "Bajo         0.078431  0.098039  0.196078\n",
      "Estable      0.117647  0.078431  0.078431\n",
      "Subio        0.176471  0.078431  0.098039 \n",
      "\n",
      "PROBABILIDAD OBSERVADA - PERIODO 3 \n",
      " EstadoNuevo      Bajo   Estable     Subio\n",
      "EstadoNuevo                              \n",
      "Bajo         0.058824  0.117647  0.098039\n",
      "Estable      0.098039  0.215686  0.137255\n",
      "Subio        0.098039  0.117647  0.058824 \n",
      "\n",
      "PROBABILIDAD OBSERVADA - PERIODO 4 \n",
      " EstadoNuevo      Bajo   Estable     Subio\n",
      "EstadoNuevo                              \n",
      "Bajo         0.098039  0.098039  0.058824\n",
      "Estable      0.098039  0.215686  0.156863\n",
      "Subio        0.058824  0.156863  0.058824 \n",
      "\n",
      "PROBABILIDAD OBSERVADA - PERIODO 5 \n",
      " EstadoNuevo      Bajo   Estable     Subio\n",
      "EstadoNuevo                              \n",
      "Bajo         0.117647  0.019608  0.137255\n",
      "Estable      0.019608  0.098039  0.117647\n",
      "Subio        0.137255  0.117647  0.235294\n"
     ]
    }
   ],
   "source": [
    "#PROBABILIDAD OBSERVADA\n",
    "probabilidad_obs_1= pd.crosstab(data_honda_dividido[0]['EstadoNuevo'].shift(), data_honda_dividido[0]['EstadoNuevo'], normalize=True)\n",
    "print(\"PROBABILIDAD OBSERVADA - PERIODO 1 \\n\",probabilidad_obs_1,\"\\n\")\n",
    "probabilidad_obs_2= pd.crosstab(data_honda_dividido[1]['EstadoNuevo'].shift(), data_honda_dividido[1]['EstadoNuevo'], normalize=True)\n",
    "print(\"PROBABILIDAD OBSERVADA - PERIODO 2 \\n\",probabilidad_obs_2,\"\\n\")\n",
    "probabilidad_obs_3= pd.crosstab(data_honda_dividido[2]['EstadoNuevo'].shift(), data_honda_dividido[2]['EstadoNuevo'], normalize=True)\n",
    "print(\"PROBABILIDAD OBSERVADA - PERIODO 3 \\n\",probabilidad_obs_3,\"\\n\")\n",
    "probabilidad_obs_4= pd.crosstab(data_honda_dividido[3]['EstadoNuevo'].shift(), data_honda_dividido[3]['EstadoNuevo'], normalize=True)\n",
    "print(\"PROBABILIDAD OBSERVADA - PERIODO 4 \\n\",probabilidad_obs_4,\"\\n\")\n",
    "probabilidad_obs_5= pd.crosstab(data_honda_dividido[4]['EstadoNuevo'].shift(), data_honda_dividido[4]['EstadoNuevo'], normalize=True)\n",
    "print(\"PROBABILIDAD OBSERVADA - PERIODO 5 \\n\",probabilidad_obs_5,)\n",
    "\n",
    "probabilidades_observadas=[probabilidad_obs_1,probabilidad_obs_2,probabilidad_obs_3,probabilidad_obs_4,probabilidad_obs_5]"
   ]
  },
  {
   "cell_type": "code",
   "execution_count": 77,
   "metadata": {},
   "outputs": [
    {
     "name": "stdout",
     "output_type": "stream",
     "text": [
      "PROBABILIDAD ESPERADA\n",
      " EstadoNuevo      Bajo   Estable     Subio\n",
      "EstadoNuevo                              \n",
      "Bajo         0.100000  0.084615  0.119231\n",
      "Estable      0.096154  0.153846  0.107692\n",
      "Subio        0.107692  0.119231  0.111538\n"
     ]
    }
   ],
   "source": [
    "probabilidad_esp= pd.crosstab(data_honda['EstadoNuevo'].shift(), data_honda['EstadoNuevo'], normalize=True)\n",
    "print(\"PROBABILIDAD ESPERADA\\n\",probabilidad_esp,)"
   ]
  },
  {
   "cell_type": "code",
   "execution_count": 83,
   "metadata": {},
   "outputs": [
    {
     "name": "stdout",
     "output_type": "stream",
     "text": [
      "[19 20 13] \n",
      "\n",
      "[[0.15384615 0.09615385 0.11538462]\n",
      " [0.15384615 0.15384615 0.05769231]\n",
      " [0.05769231 0.13461538 0.07692308]]\n",
      "[[0.1        0.08461538 0.11923077]\n",
      " [0.09615385 0.15384615 0.10769231]\n",
      " [0.10769231 0.11923077 0.11153846]]\n",
      "[19 13 19] \n",
      "\n",
      "[[0.07843137 0.09803922 0.19607843]\n",
      " [0.11764706 0.07843137 0.07843137]\n",
      " [0.17647059 0.07843137 0.09803922]]\n",
      "[[0.1        0.08461538 0.11923077]\n",
      " [0.09615385 0.15384615 0.10769231]\n",
      " [0.10769231 0.11923077 0.11153846]]\n",
      "[13 23 15] \n",
      "\n",
      "[[0.05882353 0.11764706 0.09803922]\n",
      " [0.09803922 0.21568627 0.1372549 ]\n",
      " [0.09803922 0.11764706 0.05882353]]\n",
      "[[0.1        0.08461538 0.11923077]\n",
      " [0.09615385 0.15384615 0.10769231]\n",
      " [0.10769231 0.11923077 0.11153846]]\n",
      "[13 24 14] \n",
      "\n",
      "[[0.09803922 0.09803922 0.05882353]\n",
      " [0.09803922 0.21568627 0.15686275]\n",
      " [0.05882353 0.15686275 0.05882353]]\n",
      "[[0.1        0.08461538 0.11923077]\n",
      " [0.09615385 0.15384615 0.10769231]\n",
      " [0.10769231 0.11923077 0.11153846]]\n",
      "[14 12 25] \n",
      "\n",
      "[[0.11764706 0.01960784 0.1372549 ]\n",
      " [0.01960784 0.09803922 0.11764706]\n",
      " [0.1372549  0.11764706 0.23529412]]\n",
      "[[0.1        0.08461538 0.11923077]\n",
      " [0.09615385 0.15384615 0.10769231]\n",
      " [0.10769231 0.11923077 0.11153846]]\n",
      "Chi Observado=  14.33423870307081\n",
      "Grados de Libertad=  4\n"
     ]
    }
   ],
   "source": [
    "#CHI CUADRADO\n",
    "nivelConfianza = 0.95\n",
    "alpha = 1 - nivelConfianza\n",
    "valorCritico = 9.488\n",
    "observado_chi=0\n",
    "\n",
    "for indice_periodo in range(numero_periodos):\n",
    "    observado_chi+=np.sum(np.sum(frecuencias_observadas[indice_periodo]).values*(probabilidades_observadas[indice_periodo].values-probabilidad_esp.values)**2/probabilidad_esp.values)\n",
    "    print(np.sum(frecuencias_observadas[indice_periodo]).values,\"\\n\")\n",
    "    print(probabilidades_observadas[indice_periodo].values)\n",
    "    print(probabilidad_esp.values)\n",
    "\n",
    "grados_libertad = ((probabilidad_esp.shape[1]-1)*(probabilidad_esp.shape[0]-1))\n",
    "print(\"Chi Observado= \",observado_chi)\n",
    "print(\"Grados de Libertad= \",grados_libertad)\n"
   ]
  }
 ],
 "metadata": {
  "kernelspec": {
   "display_name": "Python 3",
   "language": "python",
   "name": "python3"
  },
  "language_info": {
   "codemirror_mode": {
    "name": "ipython",
    "version": 3
   },
   "file_extension": ".py",
   "mimetype": "text/x-python",
   "name": "python",
   "nbconvert_exporter": "python",
   "pygments_lexer": "ipython3",
   "version": "3.12.1"
  }
 },
 "nbformat": 4,
 "nbformat_minor": 2
}
