{
 "cells": [
  {
   "cell_type": "code",
   "execution_count": 2,
   "metadata": {},
   "outputs": [
    {
     "name": "stderr",
     "output_type": "stream",
     "text": [
      "C:\\Users\\Carlos Abdala\\AppData\\Local\\Temp\\ipykernel_14176\\2162656668.py:1: DeprecationWarning: \n",
      "Pyarrow will become a required dependency of pandas in the next major release of pandas (pandas 3.0),\n",
      "(to allow more performant data types, such as the Arrow string type, and better interoperability with other libraries)\n",
      "but was not found to be installed on your system.\n",
      "If this would cause problems for you,\n",
      "please provide us feedback at https://github.com/pandas-dev/pandas/issues/54466\n",
      "        \n",
      "  import pandas as pd\n"
     ]
    }
   ],
   "source": [
    "import pandas as pd\n",
    "import numpy as np"
   ]
  },
  {
   "cell_type": "code",
   "execution_count": 3,
   "metadata": {},
   "outputs": [],
   "source": [
    "data_honda = pd.read_csv('../DATOS/Honda.csv')"
   ]
  },
  {
   "cell_type": "code",
   "execution_count": 4,
   "metadata": {},
   "outputs": [],
   "source": [
    "#LIMPIEZA DATOS\n",
    "data_honda=data_honda.drop(columns=[\"Date\",\"Open\",\"High\",\"Low\",\"Adj Close\",\"Volume\"])"
   ]
  },
  {
   "cell_type": "code",
   "execution_count": 11,
   "metadata": {},
   "outputs": [
    {
     "name": "stderr",
     "output_type": "stream",
     "text": [
      "c:\\Users\\Carlos Abdala\\AppData\\Local\\Programs\\Python\\Python312\\Lib\\site-packages\\numpy\\core\\fromnumeric.py:59: FutureWarning: 'DataFrame.swapaxes' is deprecated and will be removed in a future version. Please use 'DataFrame.transpose' instead.\n",
      "  return bound(*args, **kwds)\n"
     ]
    }
   ],
   "source": [
    "#PREPARAR DATOS\n",
    "numero_periodos=5\n",
    "def determinar_estado(cambio):\n",
    "    if cambio > -0.20 and cambio < 0.20 :\n",
    "        return 'Estable'\n",
    "    elif cambio < 0:\n",
    "        return 'Bajo'\n",
    "    else:\n",
    "        return 'Subio'\n",
    "\n",
    "data_honda['Cambio'] = data_honda['Close'].diff()\n",
    "data_honda['EstadoNuevo'] = data_honda['Cambio'].apply(determinar_estado)\n",
    "\n",
    "data_honda_dividido= np.array_split(data_honda,numero_periodos)\n"
   ]
  },
  {
   "cell_type": "code",
   "execution_count": 14,
   "metadata": {},
   "outputs": [
    {
     "name": "stdout",
     "output_type": "stream",
     "text": [
      "MATRIZ DE TRANSICION - PERIODO 1 \n",
      " EstadoNuevo      Bajo   Estable     Subio\n",
      "EstadoNuevo                              \n",
      "Bajo         0.211538  0.076923  0.153846\n",
      "Estable      0.115385  0.019231  0.038462\n",
      "Subio        0.115385  0.076923  0.192308 \n",
      "\n",
      "MATRIZ DE TRANSICION - PERIODO 2 \n",
      " EstadoNuevo      Bajo   Estable     Subio\n",
      "EstadoNuevo                              \n",
      "Bajo         0.137255  0.039216  0.235294\n",
      "Estable      0.039216  0.000000  0.058824\n",
      "Subio        0.235294  0.058824  0.196078 \n",
      "\n",
      "MATRIZ DE TRANSICION - PERIODO 3 \n",
      " EstadoNuevo      Bajo   Estable     Subio\n",
      "EstadoNuevo                              \n",
      "Bajo         0.196078  0.058824  0.196078\n",
      "Estable      0.098039  0.039216  0.019608\n",
      "Subio        0.137255  0.058824  0.196078 \n",
      "\n",
      "MATRIZ DE TRANSICION - PERIODO 4 \n",
      " EstadoNuevo      Bajo   Estable     Subio\n",
      "EstadoNuevo                              \n",
      "Bajo         0.235294  0.098039  0.117647\n",
      "Estable      0.078431  0.039216  0.098039\n",
      "Subio        0.137255  0.078431  0.117647 \n",
      "\n",
      "MATRIZ DE TRANSICION - PERIODO 5 \n",
      " EstadoNuevo      Bajo   Estable     Subio\n",
      "EstadoNuevo                              \n",
      "Bajo         0.117647  0.039216  0.137255\n",
      "Estable      0.019608  0.058824  0.078431\n",
      "Subio        0.156863  0.058824  0.333333\n"
     ]
    }
   ],
   "source": [
    "#MATRICES DE TRANSICION\n",
    "matriz_transicion_1= pd.crosstab(data_honda_dividido[0]['EstadoNuevo'].shift(), data_honda_dividido[0]['EstadoNuevo'], normalize=True)\n",
    "print(\"MATRIZ DE TRANSICION - PERIODO 1 \\n\",matriz_transicion_1,\"\\n\")\n",
    "matriz_transicion_2= pd.crosstab(data_honda_dividido[1]['EstadoNuevo'].shift(), data_honda_dividido[1]['EstadoNuevo'], normalize=True)\n",
    "print(\"MATRIZ DE TRANSICION - PERIODO 2 \\n\",matriz_transicion_2,\"\\n\")\n",
    "matriz_transicion_3= pd.crosstab(data_honda_dividido[2]['EstadoNuevo'].shift(), data_honda_dividido[2]['EstadoNuevo'], normalize=True)\n",
    "print(\"MATRIZ DE TRANSICION - PERIODO 3 \\n\",matriz_transicion_3,\"\\n\")\n",
    "matriz_transicion_4= pd.crosstab(data_honda_dividido[3]['EstadoNuevo'].shift(), data_honda_dividido[3]['EstadoNuevo'], normalize=True)\n",
    "print(\"MATRIZ DE TRANSICION - PERIODO 4 \\n\",matriz_transicion_4,\"\\n\")\n",
    "matriz_transicion_5= pd.crosstab(data_honda_dividido[4]['EstadoNuevo'].shift(), data_honda_dividido[4]['EstadoNuevo'], normalize=True)\n",
    "print(\"MATRIZ DE TRANSICION - PERIODO 5 \\n\",matriz_transicion_5,)\n",
    "\n",
    "matrices_transiciones=[matriz_transicion_1,matriz_transicion_2,matriz_transicion_3,matriz_transicion_4,matriz_transicion_5]"
   ]
  },
  {
   "cell_type": "code",
   "execution_count": 15,
   "metadata": {},
   "outputs": [],
   "source": [
    "#ANALISIS\n",
    "nivelConfianza = 0.95\n",
    "alpha = 1 - nivelConfianza\n",
    "valorCritico = 9.488"
   ]
  }
 ],
 "metadata": {
  "kernelspec": {
   "display_name": "Python 3",
   "language": "python",
   "name": "python3"
  },
  "language_info": {
   "codemirror_mode": {
    "name": "ipython",
    "version": 3
   },
   "file_extension": ".py",
   "mimetype": "text/x-python",
   "name": "python",
   "nbconvert_exporter": "python",
   "pygments_lexer": "ipython3",
   "version": "3.12.1"
  }
 },
 "nbformat": 4,
 "nbformat_minor": 2
}
