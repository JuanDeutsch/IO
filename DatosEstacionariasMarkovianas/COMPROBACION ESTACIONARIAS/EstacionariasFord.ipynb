{
 "cells": [
  {
   "cell_type": "code",
   "execution_count": 1,
   "metadata": {},
   "outputs": [
    {
     "name": "stderr",
     "output_type": "stream",
     "text": [
      "/var/folders/4k/4b01rf9j7cl6mcd3652m260w0000gn/T/ipykernel_38216/2162656668.py:1: DeprecationWarning: \n",
      "Pyarrow will become a required dependency of pandas in the next major release of pandas (pandas 3.0),\n",
      "(to allow more performant data types, such as the Arrow string type, and better interoperability with other libraries)\n",
      "but was not found to be installed on your system.\n",
      "If this would cause problems for you,\n",
      "please provide us feedback at https://github.com/pandas-dev/pandas/issues/54466\n",
      "        \n",
      "  import pandas as pd\n"
     ]
    }
   ],
   "source": [
    "import pandas as pd\n",
    "import numpy as np"
   ]
  },
  {
   "cell_type": "code",
   "execution_count": 2,
   "metadata": {},
   "outputs": [],
   "source": [
    "data_completa = pd.read_csv('../DATOS/Ford.csv')"
   ]
  },
  {
   "cell_type": "code",
   "execution_count": 3,
   "metadata": {},
   "outputs": [],
   "source": [
    "#LIMPIEZA DATOS\n",
    "data_completa=data_completa.drop(columns=[\"Date\",\"Open\",\"High\",\"Low\",\"Adj Close\",\"Volume\"])"
   ]
  },
  {
   "cell_type": "code",
   "execution_count": 4,
   "metadata": {},
   "outputs": [
    {
     "name": "stderr",
     "output_type": "stream",
     "text": [
      "/Library/Frameworks/Python.framework/Versions/3.11/lib/python3.11/site-packages/numpy/core/fromnumeric.py:59: FutureWarning: 'DataFrame.swapaxes' is deprecated and will be removed in a future version. Please use 'DataFrame.transpose' instead.\n",
      "  return bound(*args, **kwds)\n"
     ]
    }
   ],
   "source": [
    "#PREPARAR DATOS POR RANGOS\n",
    "numero_periodos=5\n",
    "# Función para determinar el estado según el cambio\n",
    "def determinar_estado(cambio):\n",
    "    if cambio > -0.4 and cambio < 0.4 :\n",
    "        return 'Estable'\n",
    "    elif cambio < 0:\n",
    "        return 'Bajo'\n",
    "    else:\n",
    "        return 'Subio'\n",
    "# Calcula la diferencia entre los valores de cierre consecutivos y asigna el resultado a la columna 'Cambio'\n",
    "data_completa['Cambio'] = data_completa['Close'].diff()\n",
    "# Aplica la función 'determinar_estado' a la columna 'Cambio' y crea una nueva columna 'EstadoNuevo' con los resultados\n",
    "data_completa['EstadoNuevo'] = data_completa['Cambio'].apply(determinar_estado)\n",
    "\n",
    "\n",
    "\n",
    "#CSV pruebas para excel \n",
    "data_completa['EstadoNuevo'].to_csv('../DATOS/Honda_1.csv')\n",
    "# Divide el DataFrame en un array de DataFrames, cada uno representando un periodo\n",
    "data_por_periodo = np.array_split(data_completa,numero_periodos)\n",
    "\n",
    "\n"
   ]
  },
  {
   "cell_type": "code",
   "execution_count": 5,
   "metadata": {},
   "outputs": [
    {
     "name": "stdout",
     "output_type": "stream",
     "text": [
      "FRECUENCIA OBSERVADA - PERIODO 1 \n",
      " EstadoNuevo  Bajo  Estable  Subio\n",
      "EstadoNuevo                      \n",
      "Bajo            0        5      0\n",
      "Estable         4       34      4\n",
      "Subio           1        4      0 \n",
      "\n",
      "FRECUENCIA OBSERVADA - PERIODO 2 \n",
      " EstadoNuevo  Bajo  Estable  Subio\n",
      "EstadoNuevo                      \n",
      "Bajo            3        3      3\n",
      "Estable         2       23      6\n",
      "Subio           4        5      2 \n",
      "\n",
      "FRECUENCIA OBSERVADA - PERIODO 3 \n",
      " EstadoNuevo  Bajo  Estable  Subio\n",
      "EstadoNuevo                      \n",
      "Bajo            6        4      4\n",
      "Estable         4       11      4\n",
      "Subio           5        3     10 \n",
      "\n",
      "FRECUENCIA OBSERVADA - PERIODO 4 \n",
      " EstadoNuevo  Bajo  Estable  Subio\n",
      "EstadoNuevo                      \n",
      "Bajo            7        5      6\n",
      "Estable         9        5      4\n",
      "Subio           3        8      4 \n",
      "\n",
      "FRECUENCIA OBSERVADA - PERIODO 5 \n",
      " EstadoNuevo  Bajo  Estable  Subio\n",
      "EstadoNuevo                      \n",
      "Bajo            2        5      4\n",
      "Estable         6       18      5\n",
      "Subio           3        5      3 \n",
      "\n"
     ]
    }
   ],
   "source": [
    "frecuencias_observadas = []\n",
    "\n",
    "for i in range(numero_periodos):\n",
    "    # Calcula la tabla de frecuencias observadas usando crosstab entre el estado actual y el estado anterior (shift)\n",
    "    frecuencia_obs = pd.crosstab(data_por_periodo[i]['EstadoNuevo'].shift(), data_por_periodo[i]['EstadoNuevo'], normalize=False)\n",
    "    print(\"FRECUENCIA OBSERVADA - PERIODO\", i+1, \"\\n\", frecuencia_obs, \"\\n\")\n",
    "    # Agrega la frecuencia observada a la lista\n",
    "    frecuencias_observadas.append(frecuencia_obs)\n"
   ]
  },
  {
   "cell_type": "code",
   "execution_count": 6,
   "metadata": {},
   "outputs": [
    {
     "name": "stdout",
     "output_type": "stream",
     "text": [
      "Porcentaje relativo:\n",
      " EstadoNuevo      Bajo   Estable     Subio\n",
      "EstadoNuevo                              \n",
      "Bajo         0.333333  0.222222  0.444444\n",
      "Estable      0.096774  0.741935  0.161290\n",
      "Subio        0.272727  0.545455  0.181818\n"
     ]
    }
   ],
   "source": [
    "porcentaje_observado = [None] * numero_periodos\n",
    "\n",
    "for i in range(0, numero_periodos):\n",
    "    # Calcula los porcentajes observados dividiendo las frecuencias observadas por la suma total de cada periodo\n",
    "    porcentaje_observado[i] = frecuencias_observadas[i] / frecuencias_observadas[i].sum()\n",
    "    #Transpone la matriz para que sea más fácil de leer y comparar con el Excel\n",
    "    porcentaje_observado[i] = porcentaje_observado[i].T\n",
    "    \n",
    "print(\"Porcentaje relativo:\\n\", porcentaje_observado[1]) #Ejemplo de impresion de un periodo\n"
   ]
  },
  {
   "cell_type": "code",
   "execution_count": 7,
   "metadata": {},
   "outputs": [
    {
     "name": "stdout",
     "output_type": "stream",
     "text": [
      "PROBABILIDAD OBSERVADA \n",
      " EstadoNuevo  Bajo  Estable  Subio\n",
      "EstadoNuevo                      \n",
      "Bajo           18       23     18\n",
      "Estable        25       93     23\n",
      "Subio          16       25     19 \n",
      "\n"
     ]
    }
   ],
   "source": [
    "# Calcula la tabla de frecuencias esperadas usando crosstab entre el estado actual y el estado anterior (shift) en todo el conjunto de datos\n",
    "frecuencia_esperada= pd.crosstab(data_completa['EstadoNuevo'].shift(), data_completa['EstadoNuevo'])\n",
    "print(\"PROBABILIDAD OBSERVADA \\n\",frecuencia_esperada,\"\\n\")\n"
   ]
  },
  {
   "cell_type": "code",
   "execution_count": 8,
   "metadata": {},
   "outputs": [
    {
     "name": "stdout",
     "output_type": "stream",
     "text": [
      "EstadoNuevo      Bajo   Estable     Subio\n",
      "EstadoNuevo                              \n",
      "Bajo         0.305085  0.423729  0.271186\n",
      "Estable      0.163121  0.659574  0.177305\n",
      "Subio        0.300000  0.383333  0.316667\n"
     ]
    }
   ],
   "source": [
    "# Calcula los porcentajes esperados dividiendo las frecuencias esperadas por la suma total de todas las frecuencias esperadas\n",
    "porcentaje_esperado = frecuencia_esperada / frecuencia_esperada.sum()\n",
    "#Transpone la matriz para que sea más fácil de leer y comparar con el Excel\n",
    "porcentaje_esperado = porcentaje_esperado.T\n",
    "print(porcentaje_esperado)\n"
   ]
  },
  {
   "cell_type": "code",
   "execution_count": 9,
   "metadata": {},
   "outputs": [
    {
     "name": "stdout",
     "output_type": "stream",
     "text": [
      "[ 5 43  4]\n",
      "[[0.         0.8        0.2       ]\n",
      " [0.11627907 0.79069767 0.09302326]\n",
      " [0.         1.         0.        ]]\n",
      "[[0.30508475 0.42372881 0.27118644]\n",
      " [0.16312057 0.65957447 0.17730496]\n",
      " [0.3        0.38333333 0.31666667]]\n",
      "Chi Observado: 62.74002102074414\n"
     ]
    }
   ],
   "source": [
    "ChiObs = 0\n",
    "for i in range(0, numero_periodos): \n",
    "     # Suma acumulativa de los valores chi-cuadrado observados se aplica la formula vista en clase\n",
    "    ChiObs+= np.sum(frecuencias_observadas[i].sum().values*(porcentaje_observado[i].values-porcentaje_esperado.values)**2/porcentaje_esperado.values)\n",
    "    print(frecuencias_observadas[i].sum().values)\n",
    "    print(porcentaje_observado[i].values)\n",
    "    print(porcentaje_esperado.values)\n",
    "    break\n",
    "print(f'Chi Observado: {ChiObs}')\n"
   ]
  },
  {
   "cell_type": "code",
   "execution_count": 10,
   "metadata": {},
   "outputs": [
    {
     "name": "stdout",
     "output_type": "stream",
     "text": [
      "Grados de libertad total: 28\n",
      "Chi Teorico=  41.33713815142739\n"
     ]
    }
   ],
   "source": [
    "from scipy.stats import chi2\n",
    "grados_libertad_total = 0\n",
    "sum_filas = 0\n",
    "# Iteración a través de las frecuencias observadas\n",
    "for df in frecuencias_observadas:\n",
    "    num_filas, num_columnas = df.shape\n",
    "    # Suma el número de filas al total para los grados de libertad\n",
    "    sum_filas += num_filas\n",
    "# Calcula los grados de libertad\n",
    "grados_libertad = (sum_filas - 1) * (num_columnas - 1)\n",
    "\n",
    "print(\"Grados de libertad total:\", grados_libertad)\n",
    "# Calcula el valor chi-cuadrado teórico para un nivel de significancia del 5% y los grados de libertad calculados\n",
    "chiTeorico = chi2.ppf(0.95, grados_libertad)\n",
    "print(\"Chi Teorico= \",chiTeorico)"
   ]
  },
  {
   "cell_type": "code",
   "execution_count": 11,
   "metadata": {},
   "outputs": [
    {
     "name": "stdout",
     "output_type": "stream",
     "text": [
      "Se rechaza la hipótesis nula, por lo tanto no se considera estacionario en el tiempo.\n"
     ]
    }
   ],
   "source": [
    "# Compara el valor chi-cuadrado observado con el valor chi-cuadrado teórico crítico\n",
    "if(ChiObs < chiTeorico):\n",
    "    print(\"Se acepta la hipótesis nula, por lo tanto se considera estacionario en el tiempo.\")\n",
    "else:\n",
    "    print(\"Se rechaza la hipótesis nula, por lo tanto no se considera estacionario en el tiempo.\")"
   ]
  }
 ],
 "metadata": {
  "kernelspec": {
   "display_name": "Python 3",
   "language": "python",
   "name": "python3"
  },
  "language_info": {
   "codemirror_mode": {
    "name": "ipython",
    "version": 3
   },
   "file_extension": ".py",
   "mimetype": "text/x-python",
   "name": "python",
   "nbconvert_exporter": "python",
   "pygments_lexer": "ipython3",
   "version": "3.11.0"
  }
 },
 "nbformat": 4,
 "nbformat_minor": 2
}
