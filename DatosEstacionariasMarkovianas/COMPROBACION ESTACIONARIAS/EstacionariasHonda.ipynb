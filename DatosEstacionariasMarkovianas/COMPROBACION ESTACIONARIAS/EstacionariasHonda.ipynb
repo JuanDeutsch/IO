{
 "cells": [
  {
   "cell_type": "code",
   "execution_count": 21,
   "metadata": {},
   "outputs": [],
   "source": [
    "import pandas as pd\n",
    "import numpy as np"
   ]
  },
  {
   "cell_type": "code",
   "execution_count": 22,
   "metadata": {},
   "outputs": [],
   "source": [
    "data_completa = pd.read_csv('../DATOS/Honda.csv')"
   ]
  },
  {
   "cell_type": "code",
   "execution_count": 23,
   "metadata": {},
   "outputs": [],
   "source": [
    "#LIMPIEZA DATOS\n",
    "data_completa=data_completa.drop(columns=[\"Date\",\"Open\",\"High\",\"Low\",\"Adj Close\",\"Volume\"])"
   ]
  },
  {
   "cell_type": "code",
   "execution_count": 24,
   "metadata": {},
   "outputs": [
    {
     "name": "stderr",
     "output_type": "stream",
     "text": [
      "/Library/Frameworks/Python.framework/Versions/3.11/lib/python3.11/site-packages/numpy/core/fromnumeric.py:59: FutureWarning: 'DataFrame.swapaxes' is deprecated and will be removed in a future version. Please use 'DataFrame.transpose' instead.\n",
      "  return bound(*args, **kwds)\n"
     ]
    }
   ],
   "source": [
    "#PREPARAR DATOS POR RANGOS\n",
    "numero_periodos=5\n",
    "# Función para determinar el estado según el cambio\n",
    "def determinar_estado(cambio):\n",
    "    if cambio > -0.4 and cambio < 0.4 :\n",
    "        return 'Estable'\n",
    "    elif cambio < 0:\n",
    "        return 'Bajo'\n",
    "    else:\n",
    "        return 'Subio'\n",
    "# Calcula la diferencia entre los valores de cierre consecutivos y asigna el resultado a la columna 'Cambio'\n",
    "data_completa['Cambio'] = data_completa['Close'].diff()\n",
    "# Aplica la función 'determinar_estado' a la columna 'Cambio' y crea una nueva columna 'EstadoNuevo' con los resultados\n",
    "data_completa['EstadoNuevo'] = data_completa['Cambio'].apply(determinar_estado)\n",
    "\n",
    "\n",
    "\n",
    "#CSV pruebas para excel \n",
    "data_completa['EstadoNuevo'].to_csv('../DATOS/Honda_1.csv')\n",
    "# Divide el DataFrame en un array de DataFrames, cada uno representando un periodo\n",
    "data_por_periodo = np.array_split(data_completa,numero_periodos)\n",
    "\n",
    "\n"
   ]
  },
  {
   "cell_type": "code",
   "execution_count": 25,
   "metadata": {},
   "outputs": [
    {
     "name": "stdout",
     "output_type": "stream",
     "text": [
      "FRECUENCIA OBSERVADA - PERIODO 1 \n",
      " EstadoNuevo  Bajo  Estable  Subio\n",
      "EstadoNuevo                      \n",
      "Bajo            8        5      6\n",
      "Estable         8        8      3\n",
      "Subio           3        7      4 \n",
      "\n",
      "FRECUENCIA OBSERVADA - PERIODO 2 \n",
      " EstadoNuevo  Bajo  Estable  Subio\n",
      "EstadoNuevo                      \n",
      "Bajo            4        5     10\n",
      "Estable         6        4      4\n",
      "Subio           9        4      5 \n",
      "\n",
      "FRECUENCIA OBSERVADA - PERIODO 3 \n",
      " EstadoNuevo  Bajo  Estable  Subio\n",
      "EstadoNuevo                      \n",
      "Bajo            3        6      5\n",
      "Estable         5       11      7\n",
      "Subio           5        6      3 \n",
      "\n",
      "FRECUENCIA OBSERVADA - PERIODO 4 \n",
      " EstadoNuevo  Bajo  Estable  Subio\n",
      "EstadoNuevo                      \n",
      "Bajo            5        5      3\n",
      "Estable         5       11      8\n",
      "Subio           3        8      3 \n",
      "\n",
      "FRECUENCIA OBSERVADA - PERIODO 5 \n",
      " EstadoNuevo  Bajo  Estable  Subio\n",
      "EstadoNuevo                      \n",
      "Bajo            6        1      7\n",
      "Estable         1        5      6\n",
      "Subio           7        6     12 \n",
      "\n"
     ]
    }
   ],
   "source": [
    "frecuencias_observadas = []\n",
    "\n",
    "for i in range(numero_periodos):\n",
    "    # Calcula la tabla de frecuencias observadas usando crosstab entre el estado actual y el estado anterior (shift)\n",
    "    frecuencia_obs = pd.crosstab(data_por_periodo[i]['EstadoNuevo'].shift(), data_por_periodo[i]['EstadoNuevo'], normalize=False)\n",
    "    print(\"FRECUENCIA OBSERVADA - PERIODO\", i+1, \"\\n\", frecuencia_obs, \"\\n\")\n",
    "    # Agrega la frecuencia observada a la lista\n",
    "    frecuencias_observadas.append(frecuencia_obs)\n"
   ]
  },
  {
   "cell_type": "code",
   "execution_count": 26,
   "metadata": {},
   "outputs": [
    {
     "name": "stdout",
     "output_type": "stream",
     "text": [
      "Porcentaje relativo:\n",
      " EstadoNuevo      Bajo   Estable     Subio\n",
      "EstadoNuevo                              \n",
      "Bajo         0.210526  0.315789  0.473684\n",
      "Estable      0.384615  0.307692  0.307692\n",
      "Subio        0.526316  0.210526  0.263158\n"
     ]
    }
   ],
   "source": [
    "porcentaje_observado = [None] * numero_periodos\n",
    "\n",
    "for i in range(0, numero_periodos):\n",
    "    # Calcula los porcentajes observados dividiendo las frecuencias observadas por la suma total de cada periodo\n",
    "    porcentaje_observado[i] = frecuencias_observadas[i] / frecuencias_observadas[i].sum()\n",
    "    #Transpone la matriz para que sea más fácil de leer y comparar con el Excel\n",
    "    porcentaje_observado[i] = porcentaje_observado[i].T\n",
    "    \n",
    "print(\"Porcentaje relativo:\\n\", porcentaje_observado[1]) #Ejemplo de impresion de un periodo\n"
   ]
  },
  {
   "cell_type": "code",
   "execution_count": 27,
   "metadata": {},
   "outputs": [
    {
     "name": "stdout",
     "output_type": "stream",
     "text": [
      "PROBABILIDAD OBSERVADA \n",
      " EstadoNuevo  Bajo  Estable  Subio\n",
      "EstadoNuevo                      \n",
      "Bajo           26       22     31\n",
      "Estable        25       40     28\n",
      "Subio          28       31     29 \n",
      "\n"
     ]
    }
   ],
   "source": [
    "# Calcula la tabla de frecuencias esperadas usando crosstab entre el estado actual y el estado anterior (shift) en todo el conjunto de datos\n",
    "frecuencia_esperada= pd.crosstab(data_completa['EstadoNuevo'].shift(), data_completa['EstadoNuevo'])\n",
    "print(\"PROBABILIDAD OBSERVADA \\n\",frecuencia_esperada,\"\\n\")\n"
   ]
  },
  {
   "cell_type": "code",
   "execution_count": 28,
   "metadata": {},
   "outputs": [
    {
     "name": "stdout",
     "output_type": "stream",
     "text": [
      "EstadoNuevo      Bajo   Estable     Subio\n",
      "EstadoNuevo                              \n",
      "Bajo         0.329114  0.316456  0.354430\n",
      "Estable      0.236559  0.430108  0.333333\n",
      "Subio        0.352273  0.318182  0.329545\n"
     ]
    }
   ],
   "source": [
    "# Calcula los porcentajes esperados dividiendo las frecuencias esperadas por la suma total de todas las frecuencias esperadas\n",
    "porcentaje_esperado = frecuencia_esperada / frecuencia_esperada.sum()\n",
    "#Transpone la matriz para que sea más fácil de leer y comparar con el Excel\n",
    "porcentaje_esperado = porcentaje_esperado.T\n",
    "print(porcentaje_esperado)\n"
   ]
  },
  {
   "cell_type": "code",
   "execution_count": 35,
   "metadata": {},
   "outputs": [
    {
     "name": "stdout",
     "output_type": "stream",
     "text": [
      "[19 20 13]\n",
      "[[0.42105263 0.42105263 0.15789474]\n",
      " [0.25       0.4        0.35      ]\n",
      " [0.46153846 0.23076923 0.30769231]]\n",
      "[[0.32911392 0.3164557  0.35443038]\n",
      " [0.23655914 0.43010753 0.33333333]\n",
      " [0.35227273 0.31818182 0.32954545]]\n",
      "Chi Observado: 3.8067366927467106\n"
     ]
    }
   ],
   "source": [
    "ChiObs = 0\n",
    "for i in range(0, numero_periodos): \n",
    "     # Suma acumulativa de los valores chi-cuadrado observados se aplica la formula vista en clase\n",
    "    ChiObs+= np.sum(frecuencias_observadas[i].sum().values*(porcentaje_observado[i].values-porcentaje_esperado.values)**2/porcentaje_esperado.values)\n",
    "    print(frecuencias_observadas[i].sum().values)\n",
    "    print(porcentaje_observado[i].values)\n",
    "    print(porcentaje_esperado.values)\n",
    "    break\n",
    "print(f'Chi Observado: {ChiObs}')\n"
   ]
  },
  {
   "cell_type": "code",
   "execution_count": 30,
   "metadata": {},
   "outputs": [
    {
     "name": "stdout",
     "output_type": "stream",
     "text": [
      "Grados de libertad total: 28\n",
      "Chi Teorico=  41.33713815142739\n"
     ]
    }
   ],
   "source": [
    "from scipy.stats import chi2\n",
    "grados_libertad_total = 0\n",
    "sum_filas = 0\n",
    "# Iteración a través de las frecuencias observadas\n",
    "for df in frecuencias_observadas:\n",
    "    num_filas, num_columnas = df.shape\n",
    "    # Suma el número de filas al total para los grados de libertad\n",
    "    sum_filas += num_filas\n",
    "# Calcula los grados de libertad\n",
    "grados_libertad = (sum_filas - 1) * (num_columnas - 1)\n",
    "\n",
    "print(\"Grados de libertad total:\", grados_libertad)\n",
    "# Calcula el valor chi-cuadrado teórico para un nivel de significancia del 5% y los grados de libertad calculados\n",
    "chiTeorico = chi2.ppf(0.95, grados_libertad)\n",
    "print(\"Chi Teorico= \",chiTeorico)"
   ]
  },
  {
   "cell_type": "code",
   "execution_count": 31,
   "metadata": {},
   "outputs": [
    {
     "name": "stdout",
     "output_type": "stream",
     "text": [
      "Se acepta la hipótesis nula, por lo tanto se considera estacionario en el tiempo.\n"
     ]
    }
   ],
   "source": [
    "# Compara el valor chi-cuadrado observado con el valor chi-cuadrado teórico crítico\n",
    "if(ChiObs < chiTeorico):\n",
    "    print(\"Se acepta la hipótesis nula, por lo tanto se considera estacionario en el tiempo.\")\n",
    "else:\n",
    "    print(\"Se rechaza la hipótesis nula, por lo tanto no se considera estacionario en el tiempo.\")"
   ]
  }
 ],
 "metadata": {
  "kernelspec": {
   "display_name": "Python 3",
   "language": "python",
   "name": "python3"
  },
  "language_info": {
   "codemirror_mode": {
    "name": "ipython",
    "version": 3
   },
   "file_extension": ".py",
   "mimetype": "text/x-python",
   "name": "python",
   "nbconvert_exporter": "python",
   "pygments_lexer": "ipython3",
   "version": "3.11.0"
  }
 },
 "nbformat": 4,
 "nbformat_minor": 2
}
