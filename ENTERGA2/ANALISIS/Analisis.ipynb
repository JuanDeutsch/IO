{
 "cells": [
  {
   "cell_type": "code",
   "execution_count": 7,
   "metadata": {},
   "outputs": [],
   "source": [
    "import io\n",
    "import sys, os\n",
    "import pandas as pd\n",
    "import numpy as np\n",
    "import pandas as pd\n",
    "import itertools \n",
    "import matplotlib.pyplot as plt"
   ]
  },
  {
   "cell_type": "code",
   "execution_count": 8,
   "metadata": {},
   "outputs": [],
   "source": [
    "#SE USAN LAS FUNCIONES EN LA CARPETA MARKOVIANAS PARA TRAER LAS MATRICES DE TRANSICION\n",
    "\n",
    "#pip install nbformat\n",
    "class HiddenPrints:\n",
    "    def __enter__(self):\n",
    "        self._original_stdout = sys.stdout\n",
    "        sys.stdout = open(os.devnull, 'w')\n",
    "\n",
    "    def __exit__(self, exc_type, exc_val, exc_tb):\n",
    "        sys.stdout.close()\n",
    "        sys.stdout = self._original_stdout\n",
    "\n",
    "with HiddenPrints():\n",
    "    %run -i ../MARKOVIANAS/Ford_Case2.ipynb\n",
    "    ford_accepted, ford_transition = sendInfoToAnalize()\n",
    "    %run -i ../MARKOVIANAS/Honda_Case2.ipynb\n",
    "    honda_accepted, honda_transition = sendInfoToAnalize()\n",
    "    %run -i ../MARKOVIANAS/NIO_Case2.ipynb\n",
    "    NIO_accepted, NIO_transition = sendInfoToAnalize()\n",
    "    %run -i ../MARKOVIANAS/Toyota_Case2.ipynb\n",
    "    toyota_accepted, toyota_transition = sendInfoToAnalize()\n",
    "\n",
    "states_map = {\"B1\":0, \"B2\":1, \"B3\":2, \"S1\":3, \"S2\":4, \"S3\": 5} \n",
    "company_map= {\"Ford\": ford_transition, \"Honda\": honda_transition, \"NIO\": NIO_transition, \"Toyota\": toyota_transition}\n"
   ]
  },
  {
   "cell_type": "code",
   "execution_count": 10,
   "metadata": {},
   "outputs": [
    {
     "name": "stdout",
     "output_type": "stream",
     "text": [
      "[[0.37101449 0.10434783 0.01449275 0.36231884 0.11304348 0.03478261]\n",
      " [0.28431373 0.11764706 0.06862745 0.33333333 0.12745098 0.06862745]\n",
      " [0.5        0.09090909 0.04545455 0.09090909 0.27272727 0.        ]\n",
      " [0.34985423 0.10787172 0.02040816 0.37609329 0.11953353 0.02623907]\n",
      " [0.38053097 0.08849558 0.01769912 0.36283186 0.08849558 0.0619469 ]\n",
      " [0.34210526 0.13157895 0.         0.34210526 0.10526316 0.07894737]]\n",
      "[[0.33876221 0.10423453 0.0228013  0.3713355  0.11400651 0.04885993]\n",
      " [0.23529412 0.19327731 0.04201681 0.39495798 0.12605042 0.00840336]\n",
      " [0.28       0.08       0.04       0.32       0.2        0.08      ]\n",
      " [0.31944444 0.125      0.02222222 0.36111111 0.15277778 0.01944444]\n",
      " [0.35245902 0.10655738 0.03278689 0.39344262 0.08196721 0.03278689]\n",
      " [0.33333333 0.1        0.         0.46666667 0.06666667 0.03333333]]\n",
      "[[0.38461538 0.13105413 0.01709402 0.32763533 0.10826211 0.03133903]\n",
      " [0.2601626  0.16260163 0.01626016 0.43089431 0.08943089 0.04065041]\n",
      " [0.35       0.1        0.         0.25       0.3        0.        ]\n",
      " [0.39184953 0.12225705 0.02507837 0.29153605 0.11912226 0.05015674]\n",
      " [0.32142857 0.13392857 0.02678571 0.34821429 0.14285714 0.02678571]\n",
      " [0.42105263 0.         0.02631579 0.36842105 0.10526316 0.07894737]]\n",
      "[[0.33440514 0.10610932 0.03215434 0.40514469 0.10932476 0.01286174]\n",
      " [0.22727273 0.13636364 0.04545455 0.37272727 0.13636364 0.08181818]\n",
      " [0.27586207 0.10344828 0.03448276 0.34482759 0.20689655 0.03448276]\n",
      " [0.35774648 0.11549296 0.02535211 0.34366197 0.13239437 0.02535211]\n",
      " [0.304      0.12       0.024      0.352      0.144      0.056     ]\n",
      " [0.24242424 0.09090909 0.03030303 0.39393939 0.15151515 0.09090909]]\n"
     ]
    }
   ],
   "source": [
    "#PROBABILIDAD DE QUE SUBA 3 DÍAS SEGUIDOS\n",
    "for company in company_map:\n",
    "    for "
   ]
  }
 ],
 "metadata": {
  "kernelspec": {
   "display_name": "Python 3",
   "language": "python",
   "name": "python3"
  },
  "language_info": {
   "codemirror_mode": {
    "name": "ipython",
    "version": 3
   },
   "file_extension": ".py",
   "mimetype": "text/x-python",
   "name": "python",
   "nbconvert_exporter": "python",
   "pygments_lexer": "ipython3",
   "version": "3.12.1"
  }
 },
 "nbformat": 4,
 "nbformat_minor": 2
}
