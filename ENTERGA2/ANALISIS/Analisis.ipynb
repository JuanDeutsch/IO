{
 "cells": [
  {
   "cell_type": "code",
   "execution_count": 11,
   "metadata": {},
   "outputs": [],
   "source": [
    "import io\n",
    "import sys, os\n",
    "import pandas as pd\n",
    "import numpy as np\n",
    "import pandas as pd\n",
    "import itertools \n",
    "import matplotlib.pyplot as plt"
   ]
  },
  {
   "cell_type": "code",
   "execution_count": 12,
   "metadata": {},
   "outputs": [],
   "source": [
    "#SE USAN LAS FUNCIONES EN LA CARPETA MARKOVIANAS PARA TRAER LAS MATRICES DE TRANSICION\n",
    "\n",
    "#pip install nbformat\n",
    "class HiddenPrints:\n",
    "    def __enter__(self):\n",
    "        self._original_stdout = sys.stdout\n",
    "        sys.stdout = open(os.devnull, 'w')\n",
    "\n",
    "    def __exit__(self, exc_type, exc_val, exc_tb):\n",
    "        sys.stdout.close()\n",
    "        sys.stdout = self._original_stdout\n",
    "\n",
    "with HiddenPrints():\n",
    "    %run -i ../MARKOVIANAS/Ford_Case2.ipynb\n",
    "    ford_accepted, ford_transition = sendInfoToAnalize()\n",
    "    %run -i ../MARKOVIANAS/Honda_Case2.ipynb\n",
    "    honda_accepted, honda_transition = sendInfoToAnalize()\n",
    "    %run -i ../MARKOVIANAS/NIO_Case2.ipynb\n",
    "    NIO_accepted, NIO_transition = sendInfoToAnalize()\n",
    "    %run -i ../MARKOVIANAS/Toyota_Case2.ipynb\n",
    "    toyota_accepted, toyota_transition = sendInfoToAnalize()\n",
    "\n",
    "states_map = {\"B1\":0, \"B2\":1, \"B3\":2, \"S1\":3, \"S2\":4, \"S3\": 5} \n",
    "company_map= {\"Ford\": ford_transition, \"Honda\": honda_transition, \"NIO\": NIO_transition, \"Toyota\": toyota_transition}\n"
   ]
  },
  {
   "cell_type": "code",
   "execution_count": 78,
   "metadata": {},
   "outputs": [],
   "source": [
    "def calculateProbabilityUpAndDownAfterDays(days,company,initial_state,type=\"S\"):\n",
    "    if(type==\"S\"):\n",
    "        final_type=\"subida\"\n",
    "    elif(type==\"B\"):\n",
    "        final_type=\"bajada\"\n",
    "\n",
    "    all_combinations = list(itertools.product(list(states_map.keys()),repeat=days+1))\n",
    "    selected_combinations=[]\n",
    "    for _,combination in enumerate(all_combinations):\n",
    "        if all(type in combination[i] for i in range(1, len(combination))) and combination[0]==initial_state:\n",
    "            selected_combinations.append(combination)\n",
    "    probabilities=[]\n",
    "\n",
    "    for _,selected_combination in enumerate(selected_combinations):\n",
    "        probability=0\n",
    "        for i in range(len(selected_combination)-1):\n",
    "            if i==0:\n",
    "                probability=(company_map[company][states_map[selected_combination[i]],states_map[selected_combination[i+1]]])\n",
    "            else:\n",
    "                probability=probability*(company_map[company][states_map[selected_combination[i]],states_map[selected_combination[i+1]]])\n",
    "        probabilities.append(probability)\n",
    "    final_probability=sum(probabilities)\n",
    "    return final_probability\n"
   ]
  },
  {
   "cell_type": "code",
   "execution_count": 86,
   "metadata": {},
   "outputs": [
    {
     "name": "stdout",
     "output_type": "stream",
     "text": [
      "Empresa: Ford\n",
      "    Probabilidad de S - 3 consecutivos\n",
      "B1                            0.138105\n",
      "B2                            0.143367\n",
      "B3                            0.097596\n",
      "S1                            0.141237\n",
      "S2                            0.139127\n",
      "S3                            0.142644 \n",
      "\n",
      "Empresa: Honda\n",
      "    Probabilidad de S - 3 consecutivos\n",
      "B1                            0.149968\n",
      "B2                            0.147660\n",
      "B3                            0.168147\n",
      "S1                            0.148690\n",
      "S2                            0.142684\n",
      "S3                            0.159311 \n",
      "\n",
      "Empresa: NIO\n",
      "    Probabilidad de S - 3 consecutivos\n",
      "B1                            0.108689\n",
      "B2                            0.129594\n",
      "B3                            0.130711\n",
      "S1                            0.108360\n",
      "S2                            0.120696\n",
      "S3                            0.129822 \n",
      "\n",
      "Empresa: Toyota\n",
      "    Probabilidad de S - 3 consecutivos\n",
      "B1                            0.142199\n",
      "B2                            0.164983\n",
      "B3                            0.162208\n",
      "S1                            0.137081\n",
      "S2                            0.153036\n",
      "S3                            0.178031 \n",
      "\n"
     ]
    }
   ],
   "source": [
    "#CALCULAR 3 DÍAS SEGUIDOS DE SUBIDA\n",
    "days=3\n",
    "for _,comapany in enumerate(list(company_map.keys())):\n",
    "    print(f\"Empresa: {comapany}\")\n",
    "    list_prob_subida=[]\n",
    "    for _,state in enumerate(list(states_map.keys())):\n",
    "        probability=calculateProbabilityUpAndDownAfterDays(days,comapany,state,\"S\")\n",
    "        list_prob_subida.append(probability)\n",
    "    data_frame_prob=pd.DataFrame(list_prob_subida,index=list(states_map.keys()), columns=[f\"Probabilidad de S - {days} consecutivos\"])\n",
    "    print(data_frame_prob,\"\\n\")\n"
   ]
  },
  {
   "cell_type": "code",
   "execution_count": 88,
   "metadata": {},
   "outputs": [
    {
     "name": "stdout",
     "output_type": "stream",
     "text": [
      "Empresa: Ford\n",
      "    Probabilidad de B - 3 consecutivos\n",
      "B1                            0.118526\n",
      "B2                            0.118021\n",
      "B3                            0.156092\n",
      "S1                            0.116158\n",
      "S2                            0.118048\n",
      "S3                            0.113486 \n",
      "\n",
      "Empresa: Honda\n",
      "    Probabilidad de B - 3 consecutivos\n",
      "B1                            0.100015\n",
      "B2                            0.100561\n",
      "B3                            0.085222\n",
      "S1                            0.100250\n",
      "S2                            0.105316\n",
      "S3                            0.093725 \n",
      "\n",
      "Empresa: NIO\n",
      "    Probabilidad de B - 3 consecutivos\n",
      "B1                            0.136316\n",
      "B2                            0.109360\n",
      "B3                            0.116279\n",
      "S1                            0.138198\n",
      "S2                            0.122104\n",
      "S3                            0.119804 \n",
      "\n",
      "Empresa: Toyota\n",
      "    Probabilidad de B - 3 consecutivos\n",
      "B1                            0.097148\n",
      "B2                            0.082133\n",
      "B3                            0.084526\n",
      "S1                            0.102598\n",
      "S2                            0.091622\n",
      "S3                            0.074280 \n",
      "\n"
     ]
    }
   ],
   "source": [
    "#CALCULAR 3 DÍAS SEGUIDOS DE BAJADA\n",
    "days=3\n",
    "for _,comapany in enumerate(list(company_map.keys())):\n",
    "    print(f\"Empresa: {comapany}\")\n",
    "    list_prob_subida=[]\n",
    "    for _,state in enumerate(list(states_map.keys())):\n",
    "        probability=calculateProbabilityUpAndDownAfterDays(days,comapany,state,\"B\")\n",
    "        list_prob_subida.append(probability)\n",
    "    data_frame_prob=pd.DataFrame(list_prob_subida,index=list(states_map.keys()), columns=[f\"Probabilidad de B - {days} consecutivos\"])\n",
    "    print(data_frame_prob,\"\\n\")"
   ]
  }
 ],
 "metadata": {
  "kernelspec": {
   "display_name": "Python 3",
   "language": "python",
   "name": "python3"
  },
  "language_info": {
   "codemirror_mode": {
    "name": "ipython",
    "version": 3
   },
   "file_extension": ".py",
   "mimetype": "text/x-python",
   "name": "python",
   "nbconvert_exporter": "python",
   "pygments_lexer": "ipython3",
   "version": "3.12.1"
  }
 },
 "nbformat": 4,
 "nbformat_minor": 2
}
